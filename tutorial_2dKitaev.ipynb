{
 "cells": [
  {
   "cell_type": "code",
   "execution_count": 1,
   "id": "252f682f",
   "metadata": {},
   "outputs": [],
   "source": [
    "include(\"./src/MPO_common.jl\")\n",
    "using .MPO_common\n",
    "using JLD2\n",
    "using ITensors\n",
    "using QuadGK\n",
    "using Statistics\n",
    "using LinearAlgebra\n",
    "include(\"./src/iDMRG.jl\")\n",
    "using .iDMRG"
   ]
  },
  {
   "cell_type": "markdown",
   "id": "c9a0402a",
   "metadata": {},
   "source": [
    "We have chosen the same convention as Fig.3 in Kitaev's paper. The periodic direction (which we call $L_y$) is along $n_1=(-\\frac{1}{2},-\\frac{\\sqrt{3}}{2})$."
   ]
  },
  {
   "cell_type": "code",
   "execution_count": 2,
   "id": "f2611e76",
   "metadata": {},
   "outputs": [
    {
     "data": {
      "text/plain": [
       "-1.0"
      ]
     },
     "execution_count": 2,
     "metadata": {},
     "output_type": "execute_result"
    }
   ],
   "source": [
    "Ly = 3 # Here it denotes number of true unit-cells along the Ly direction.\n",
    "uc = 2 * Ly\n",
    "Jx = -0.4\n",
    "Jy = -0.4\n",
    "Jz = -1.0"
   ]
  },
  {
   "cell_type": "markdown",
   "id": "ba46bb53",
   "metadata": {},
   "source": [
    "Below is the analytic energy"
   ]
  },
  {
   "cell_type": "code",
   "execution_count": 3,
   "id": "e40acf62",
   "metadata": {},
   "outputs": [
    {
     "data": {
      "text/plain": [
       "(0.5442204976647842, 1.644663294442239e-10)"
      ]
     },
     "execution_count": 3,
     "metadata": {},
     "output_type": "execute_result"
    }
   ],
   "source": [
    "dispersion(a1, a2) = abs(Jx * exp(im * 2pi * a1) + Jy * exp(im * 2pi * a2) + Jz)\n",
    "\n",
    "function integrate_dispersion(Ly)\n",
    "    alphas = (1:Ly) ./ Ly\n",
    "    quadgk(0.0, 1.0) do a2\n",
    "        mean([dispersion(a1, a2) for a1 in alphas]) / 2\n",
    "    end\n",
    "end\n",
    "\n",
    "# usage\n",
    "val, err = integrate_dispersion(Ly)"
   ]
  },
  {
   "cell_type": "code",
   "execution_count": 4,
   "id": "cd2ba945",
   "metadata": {},
   "outputs": [],
   "source": [
    "oplist = MPOsum()\n",
    "for i = 1:Ly\n",
    "    mpoadd!(oplist, 4 * Jx, (2 * i - 1, \"Sx\"), (2 * i, \"Sx\"))\n",
    "    mpoadd!(oplist, 4 * Jy, (2 * i - 1, \"Sy\"), (2 * i + 2 * Ly, \"Sy\"))\n",
    "end\n",
    "\n",
    "for i = 1:Ly\n",
    "    mpoadd!(oplist, 4 * Jz, (2 * i, \"Sz\"), (mod1(2 * i + 1, 2 * Ly), \"Sz\"))\n",
    "end\n",
    "\n",
    "sites = siteinds(\"S=1/2\", uc)\n",
    "iH = op_to_hm_inf(oplist, sites);"
   ]
  },
  {
   "cell_type": "markdown",
   "id": "d27448fb",
   "metadata": {},
   "source": [
    "Note that we have chosen a larger krylovdimmax and niter. These are the crucial parameters to tune for a convergence. In general I think for gapped phases they can be tuned a bit higher so that the convergence is faster (although each sweep would take longer time). For gapless phase they can be lower to achieve convergence, since we don't want to use bad trial states to contract environment too much."
   ]
  },
  {
   "cell_type": "markdown",
   "id": "68c5a657",
   "metadata": {},
   "source": [
    "If the $noiseonoff$ is on, then at each global sweep, a sweep with noise (following Hubig et al. strictly single-site DMRG paper) turned on is first performed, then sweeps without noise are performed."
   ]
  },
  {
   "cell_type": "code",
   "execution_count": 5,
   "id": "80598df4",
   "metadata": {},
   "outputs": [
    {
     "name": "stdout",
     "output_type": "stream",
     "text": [
      "finish initialization\n",
      "Maximum bond dimension is: 1\n",
      "Energy is: -0.5425597322249013\n",
      "<Λ(n)|Λ(n+1)> overlap is: 1.0000000000000002\n",
      "== Global sweep 1 ==\n",
      "Maximum bond dimension is: 4\n",
      "Energy is: -0.6775261104492998\n",
      "<Λ(n)|Λ(n+1)> overlap is: 0.7044210947274444\n",
      "  Sweep 1\n",
      "Maximum bond dimension is: 6\n",
      "Energy is: -0.530425642459028\n",
      "<Λ(n)|Λ(n+1)> overlap is: 0.9998645576640885\n",
      "  Sweep 2\n",
      "Maximum bond dimension is: 16\n",
      "Energy is: -0.5372748893195377\n",
      "<Λ(n)|Λ(n+1)> overlap is: 0.9962219124165398\n",
      "  Sweep 3\n",
      "Maximum bond dimension is: 28\n",
      "Energy is: -0.5437074322439219\n",
      "<Λ(n)|Λ(n+1)> overlap is: 0.9977860641294674\n",
      "  Sweep 4\n",
      "Maximum bond dimension is: 50\n",
      "Energy is: -0.543736067369687\n",
      "<Λ(n)|Λ(n+1)> overlap is: 0.9995911773308594\n",
      "  Sweep 5\n",
      "Maximum bond dimension is: 50\n",
      "Energy is: -0.5437918248899921\n",
      "<Λ(n)|Λ(n+1)> overlap is: 0.9925267302623647\n",
      "  Sweep 6\n",
      "Maximum bond dimension is: 50\n",
      "Energy is: -0.5438616535593918\n",
      "<Λ(n)|Λ(n+1)> overlap is: 0.9922556477665248\n",
      "  Sweep 7\n",
      "Maximum bond dimension is: 50\n",
      "Energy is: -0.543904772747973\n",
      "<Λ(n)|Λ(n+1)> overlap is: 0.9940779744927295\n",
      "  Sweep 8\n",
      "Maximum bond dimension is: 50\n",
      "Energy is: -0.5438985454910347\n",
      "<Λ(n)|Λ(n+1)> overlap is: 0.9995694282334844\n",
      "  Sweep 9\n",
      "Maximum bond dimension is: 50\n",
      "Energy is: -0.5438959830681066\n",
      "<Λ(n)|Λ(n+1)> overlap is: 0.9998827491322352\n",
      "  Sweep 10\n",
      "Maximum bond dimension is: 50\n",
      "Energy is: -0.5438953064523891\n",
      "<Λ(n)|Λ(n+1)> overlap is: 0.9999598555226052\n",
      "== Global sweep 2 ==\n",
      "Maximum bond dimension is: 100\n",
      "Energy is: -0.5440641294846742\n",
      "<Λ(n)|Λ(n+1)> overlap is: 0.9953994942744662\n",
      "  Sweep 1\n",
      "Maximum bond dimension is: 100\n",
      "Energy is: -0.5441307807943497\n",
      "<Λ(n)|Λ(n+1)> overlap is: 0.985285303002648\n",
      "  Sweep 2\n",
      "Maximum bond dimension is: 100\n",
      "Energy is: -0.5441766115280918\n",
      "<Λ(n)|Λ(n+1)> overlap is: 0.9931604313904792\n",
      "  Sweep 3\n",
      "Maximum bond dimension is: 100\n",
      "Energy is: -0.5442077532986597\n",
      "<Λ(n)|Λ(n+1)> overlap is: 0.9943632057240164\n",
      "  Sweep 4\n",
      "Maximum bond dimension is: 99\n",
      "Energy is: -0.5442102278016941\n",
      "<Λ(n)|Λ(n+1)> overlap is: 0.9987370756554967\n",
      "  Sweep 5\n",
      "Maximum bond dimension is: 100\n",
      "Energy is: -0.5442101458914786\n",
      "<Λ(n)|Λ(n+1)> overlap is: 0.9984955657598908\n",
      "  Sweep 6\n",
      "Maximum bond dimension is: 100\n",
      "Energy is: -0.544210921918887\n",
      "<Λ(n)|Λ(n+1)> overlap is: 0.9967926666319495\n",
      "  Sweep 7\n",
      "Maximum bond dimension is: 100\n",
      "Energy is: -0.5442118037103091\n",
      "<Λ(n)|Λ(n+1)> overlap is: 0.9941384126113857\n",
      "  Sweep 8\n",
      "Maximum bond dimension is: 100\n",
      "Energy is: -0.5442147032853057\n",
      "<Λ(n)|Λ(n+1)> overlap is: 0.989503656917394\n",
      "  Sweep 9\n",
      "Maximum bond dimension is: 100\n",
      "Energy is: -0.5442204527813933\n",
      "<Λ(n)|Λ(n+1)> overlap is: 0.9882326670300472\n",
      "  Sweep 10\n",
      "Maximum bond dimension is: 100\n",
      "Energy is: -0.5442234377600812\n",
      "<Λ(n)|Λ(n+1)> overlap is: 0.99783040241824\n",
      "  Sweep 11\n",
      "Maximum bond dimension is: 81\n",
      "Energy is: -0.5442206910445103\n",
      "<Λ(n)|Λ(n+1)> overlap is: 0.9995395957452253\n",
      "  Sweep 12\n",
      "Maximum bond dimension is: 62\n",
      "Energy is: -0.544220464808717\n",
      "<Λ(n)|Λ(n+1)> overlap is: 0.9999998572993314\n",
      "  Sweep 13\n",
      "Maximum bond dimension is: 62\n",
      "Energy is: -0.5442204201816878\n",
      "<Λ(n)|Λ(n+1)> overlap is: 0.9999999972328347\n",
      "  Sweep 14\n",
      "Maximum bond dimension is: 62\n",
      "Energy is: -0.5442204204990778\n",
      "<Λ(n)|Λ(n+1)> overlap is: 0.9999999998508808\n",
      "  Sweep 15\n",
      "Maximum bond dimension is: 62\n",
      "Energy is: -0.5442204207284504\n",
      "<Λ(n)|Λ(n+1)> overlap is: 0.999999999927901\n",
      "  Sweep 16\n",
      "Maximum bond dimension is: 62\n",
      "Energy is: -0.5442204207983442\n",
      "<Λ(n)|Λ(n+1)> overlap is: 0.9999999999287993\n",
      "  Sweep 17\n",
      "Maximum bond dimension is: 62\n",
      "Energy is: -0.5442204208142462\n",
      "<Λ(n)|Λ(n+1)> overlap is: 0.9999999999291534\n",
      "  Sweep 18\n",
      "Maximum bond dimension is: 62\n",
      "Energy is: -0.5442204208285139\n",
      "<Λ(n)|Λ(n+1)> overlap is: 0.9999999999294319\n",
      "  Sweep 19\n",
      "Maximum bond dimension is: 62\n",
      "Energy is: -0.5442204208402094\n",
      "<Λ(n)|Λ(n+1)> overlap is: 0.9999999999297565\n",
      "  Sweep 20\n",
      "Maximum bond dimension is: 62\n",
      "Energy is: -0.544220420851436\n",
      "<Λ(n)|Λ(n+1)> overlap is: 0.9999999999301409\n"
     ]
    }
   ],
   "source": [
    "finalstate = idmrg_run(iH, sites; maxdimlist=[50, 100], sweeplist=[10, 20], noise=1e-2,krylovdimmax=5,niter=3,noiseonoff=true, cutoff=1e-10);"
   ]
  },
  {
   "cell_type": "markdown",
   "id": "93ef956a",
   "metadata": {},
   "source": [
    "The convergence criteria $<\\Lambda(n)|\\Lambda(n+1)>$ follows IP McCulloch arXiv:0804.2509."
   ]
  },
  {
   "cell_type": "markdown",
   "id": "70ac08dd",
   "metadata": {},
   "source": [
    "The GS energy computed from iDMRG is $-0.544220420851436$, which is quite accurate."
   ]
  },
  {
   "cell_type": "code",
   "execution_count": 9,
   "id": "f4d92385",
   "metadata": {},
   "outputs": [
    {
     "data": {
      "text/plain": [
       "1.4114381837682496e-7"
      ]
     },
     "execution_count": 9,
     "metadata": {},
     "output_type": "execute_result"
    }
   ],
   "source": [
    "(0.5442204976647842-0.544220420851436)/0.544220420851436"
   ]
  },
  {
   "cell_type": "code",
   "execution_count": 10,
   "id": "0bec37af",
   "metadata": {},
   "outputs": [
    {
     "name": "stdout",
     "output_type": "stream",
     "text": [
      "Converged after 2 sweeps with error 9.908518949546789e-9\n",
      "Below is the result\n",
      "0.999999317391789 + 1.002966134064314e-9im\n"
     ]
    }
   ],
   "source": [
    "ψA,L1=left_canonical_form(finalstate,sites); # I used an iteration algorithm so the output is a convergence criteria which is not material."
   ]
  },
  {
   "cell_type": "code",
   "execution_count": 11,
   "id": "75d21dde",
   "metadata": {},
   "outputs": [
    {
     "name": "stdout",
     "output_type": "stream",
     "text": [
      "Converged after 12 sweeps with error 6.468709686643227e-9\n",
      "Below is the result\n",
      "0.999999998946195 - 1.511298631739009e-11im\n"
     ]
    }
   ],
   "source": [
    "ψB,Rl=right_canonical_form(finalstate,sites); "
   ]
  }
 ],
 "metadata": {
  "kernelspec": {
   "display_name": "Julia (4 threads) 1.10.2",
   "language": "julia",
   "name": "julia-_4-threads_-1.10"
  },
  "language_info": {
   "file_extension": ".jl",
   "mimetype": "application/julia",
   "name": "julia",
   "version": "1.10.2"
  }
 },
 "nbformat": 4,
 "nbformat_minor": 5
}
