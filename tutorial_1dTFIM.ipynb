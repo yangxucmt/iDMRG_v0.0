{
 "cells": [
  {
   "cell_type": "code",
   "execution_count": 1,
   "id": "8011ff63",
   "metadata": {},
   "outputs": [],
   "source": [
    "include(\"./src/MPO_common.jl\")\n",
    "using .MPO_common\n",
    "using JLD2\n",
    "using ITensors\n",
    "using LinearAlgebra\n",
    "include(\"./src/iDMRG.jl\")\n",
    "using .iDMRG"
   ]
  },
  {
   "cell_type": "markdown",
   "id": "fd4a3a2c",
   "metadata": {},
   "source": [
    "Below we consider a 1d TFIM.\n",
    "\n",
    "A note on inputting MPOs: Suppose we have a unit cell of size $n$, labeled $1,\\cdots, n$. Each Hamiltonian term should be assigned the smallest index within this region, with the remaining indices specified by the appropriate increments, without taking indices modulo $n$."
   ]
  },
  {
   "cell_type": "code",
   "execution_count": null,
   "id": "6d3f4d9a",
   "metadata": {},
   "outputs": [],
   "source": [
    "uc = 4\n",
    "jz = -1.0\n",
    "hx = -2.0\n",
    "\n",
    "oplist = MPOsum()\n",
    "# ITensor defines spin-1/2 operators as sigma_j/2, therefore we compensate for the 1/2 factors in the coefficients.\n",
    "for i = 1:uc\n",
    "    mpoadd!(oplist, 4 * jz, (i, \"Sz\"), (i + 1, \"Sz\"))  # Note that the last term that goes out of this unit-cell has index (4,5), without modding out 4.\n",
    "    mpoadd!(oplist, 2 * hx, (i, \"Sx\"))\n",
    "end\n",
    "\n",
    "sites = siteinds(\"S=1/2\", uc)\n",
    "iH = op_to_hm_inf(oplist, sites);  #Generate iMPO"
   ]
  },
  {
   "cell_type": "markdown",
   "id": "5e376b1b",
   "metadata": {},
   "source": [
    "# The output is a struct MPSdata, which contains the following data:\n",
    "1. MPSdata.ψ contains the iMPS in the form of $A_1$, $B_2$, $B_3$,..., $B_n$, where $n$ is the number of sites in a unit-cell. A's are left canonical, and B's are right canonical\n",
    "2. MPSdata.LP and MPSdata.RP are the environment, which can be useful if one wants to restart the iDMRG.\n",
    "3. MPSdata.lambda_1, this is the Schmidt value $\\Lambda_1$ between site 1 and site 2.\n",
    "4. MPSdata.lambda_end, this is the Schmidt value $\\Lambda_n$ between site $n$ and site 1.\n",
    "\n",
    "Therefore the true periodic infinite MPS should be as follows (which then repeats itself indefinitely):\n",
    "\n",
    "$[A_1\\ \\Lambda_1\\ B_2\\ B_3\\ ...\\ B_n\\ \\Lambda_n^{-1}]$\n",
    "\n",
    "Cf., Binder Barthel, PRB 98,235114."
   ]
  },
  {
   "cell_type": "code",
   "execution_count": 20,
   "id": "2b88724c",
   "metadata": {},
   "outputs": [
    {
     "name": "stdout",
     "output_type": "stream",
     "text": [
      "finish initialization\n",
      "Maximum bond dimension is: 2\n",
      "Energy is: -2.190473536556369\n",
      "<Λ(n)|Λ(n+1)> overlap is: 0.9911581811989701\n",
      "== Global sweep 1 ==\n",
      "Maximum bond dimension is: 5\n",
      "Energy is: -2.127107545943373\n",
      "<Λ(n)|Λ(n+1)> overlap is: 0.9999950382253208\n",
      "  Sweep 1\n",
      "Maximum bond dimension is: 5\n",
      "Energy is: -2.127088819600594\n",
      "<Λ(n)|Λ(n+1)> overlap is: 0.9999999999617517\n",
      "  Sweep 2\n",
      "Maximum bond dimension is: 5\n",
      "Energy is: -2.127088819582493\n",
      "<Λ(n)|Λ(n+1)> overlap is: 0.9999999999703374\n",
      "== Global sweep 2 ==\n",
      "Maximum bond dimension is: 5\n",
      "Energy is: -2.1270888195844933\n",
      "<Λ(n)|Λ(n+1)> overlap is: 0.9999999999690299\n",
      "  Sweep 1\n",
      "Maximum bond dimension is: 5\n",
      "Energy is: -2.1270888195804005\n",
      "<Λ(n)|Λ(n+1)> overlap is: 0.999999999969027\n",
      "  Sweep 2\n",
      "Maximum bond dimension is: 5\n",
      "Energy is: -2.127088819582344\n",
      "<Λ(n)|Λ(n+1)> overlap is: 0.9999999999703748\n",
      "== Global sweep 3 ==\n",
      "Maximum bond dimension is: 5\n",
      "Energy is: -2.127088819584415\n",
      "<Λ(n)|Λ(n+1)> overlap is: 0.999999999969029\n",
      "  Sweep 1\n",
      "Maximum bond dimension is: 5\n",
      "Energy is: -2.127088819580379\n",
      "<Λ(n)|Λ(n+1)> overlap is: 0.999999999969026\n",
      "  Sweep 2\n",
      "Maximum bond dimension is: 5\n",
      "Energy is: -2.127088819582454\n",
      "<Λ(n)|Λ(n+1)> overlap is: 0.9999999999703747\n",
      "  Sweep 3\n",
      "Maximum bond dimension is: 5\n",
      "Energy is: -2.1270888195824185\n",
      "<Λ(n)|Λ(n+1)> overlap is: 0.999999999970378\n"
     ]
    }
   ],
   "source": [
    "finalstate = idmrg_run(iH, sites; maxdimlist=[50, 100, 250], sweeplist=[2, 2, 3], init_cutoff=1e-2, cutoff=1e-10);"
   ]
  },
  {
   "cell_type": "markdown",
   "id": "e48d4649",
   "metadata": {},
   "source": [
    "The GS energy from iDMRG is $-2.1270888195824185$, which can be compared with the exact energy given by $-1/2 \\frac{1}{\\pi}\\int^{\\pi}_{0}dk \\epsilon_k$, where $\\epsilon_k=2\\sqrt(j^2+h^2-2jh\\text{cos}(k))$."
   ]
  },
  {
   "cell_type": "code",
   "execution_count": 9,
   "id": "04eeb432",
   "metadata": {},
   "outputs": [
    {
     "name": "stdout",
     "output_type": "stream",
     "text": [
      "Ground state energy = 2.12708881994673\n"
     ]
    }
   ],
   "source": [
    "using QuadGK\n",
    "# dispersion\n",
    "ε(k) = 2 * sqrt(jz^2 + hx^2 - 2jz*hx*cos(k))\n",
    "\n",
    "# e.g. integrate over the 1D Brillouin zone [0, π]\n",
    "gse = quadgk(k -> ε(k), 0, π; rtol=1e-10)[1]/2pi\n",
    "\n",
    "println(\"Ground state energy = $gse\")"
   ]
  },
  {
   "cell_type": "markdown",
   "id": "403cd423",
   "metadata": {},
   "source": [
    "# Transforming the states in canonical forms:\n",
    "The above output is of course unwieldy. We can use the following two functions to transform it into canonical forms.\n",
    "\n",
    "The idea is to transform an arbitrary iMPS $MMM$ into left-canonical or right-canonical form. We have $A=LML^{-1}$. Therefore $...MMMMM=...AAAAAL$, where one $L$ is pulled to left infinity. Similarly $B=R^{-1}MR$. Therefore $MMM...=RBBB...$.\n",
    "\n",
    "From these we can also case the iMPS into a mixed canonical form which can then be used to compute correlation functions. The idea is, $...MMMM...=...AA(LR)BB...$, where $(LR)$ is the SVD of the center site. \n",
    "\n",
    "Need to normalize in the end. \n",
    "\n",
    "The algorithm we use is the simple iteration algorithm Eq.28 in Vanderstraeten et. al. Tangent-space methods for uniform MPS."
   ]
  },
  {
   "cell_type": "code",
   "execution_count": 17,
   "id": "28eb6e83",
   "metadata": {},
   "outputs": [
    {
     "name": "stdout",
     "output_type": "stream",
     "text": [
      "Converged after 2 sweeps with error 8.43769498715119e-15\n",
      "Below is the result\n",
      "0.999999999794398 + 0.0im\n"
     ]
    }
   ],
   "source": [
    "ψA,L1=left_canonical_form(finalstate,sites); # I used an iteration algorithm so the output is a convergence criteria which is not material."
   ]
  },
  {
   "cell_type": "code",
   "execution_count": 18,
   "id": "ebd4daeb",
   "metadata": {},
   "outputs": [
    {
     "name": "stdout",
     "output_type": "stream",
     "text": [
      "Converged after 6 sweeps with error 3.6078537030962846e-11\n",
      "Below is the result\n",
      "1.000000000000056 + 1.300804754770646e-15im\n"
     ]
    }
   ],
   "source": [
    "ψB,Rl=right_canonical_form(finalstate,sites); "
   ]
  },
  {
   "cell_type": "code",
   "execution_count": 19,
   "id": "73c0606c",
   "metadata": {},
   "outputs": [
    {
     "data": {
      "text/plain": [
       "ITensor ord=2 (dim=5|id=434|\"Link,qr\") (dim=5|id=404|\"Link,rq\")\n",
       "NDTensors.Dense{ComplexF64, Vector{ComplexF64}}"
      ]
     },
     "execution_count": 19,
     "metadata": {},
     "output_type": "execute_result"
    }
   ],
   "source": [
    "Λc = L1 * Rl\n",
    "Λc = Λc / sqrt(tr(array(Λc) * transpose(conj(array(Λc)))))"
   ]
  },
  {
   "cell_type": "markdown",
   "id": "59690d02",
   "metadata": {},
   "source": [
    "The final iMPS in the mixed gauge is therefore $\\cdots \\psi_A\\ \\psi_A\\ \\Lambda_c\\ \\psi_B\\ \\psi_B\\ \\cdots$"
   ]
  }
 ],
 "metadata": {
  "kernelspec": {
   "display_name": "Julia (4 threads) 1.10.2",
   "language": "julia",
   "name": "julia-_4-threads_-1.10"
  },
  "language_info": {
   "file_extension": ".jl",
   "mimetype": "application/julia",
   "name": "julia",
   "version": "1.10.2"
  }
 },
 "nbformat": 4,
 "nbformat_minor": 5
}
