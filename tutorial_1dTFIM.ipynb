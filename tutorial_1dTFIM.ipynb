{
 "cells": [
  {
   "cell_type": "code",
   "execution_count": 1,
   "id": "8011ff63",
   "metadata": {},
   "outputs": [],
   "source": [
    "include(\"./src/MPO_common.jl\")\n",
    "using .MPO_common\n",
    "using JLD2\n",
    "using ITensors\n",
    "using LinearAlgebra\n",
    "include(\"./src/iDMRG.jl\")\n",
    "using .iDMRG"
   ]
  },
  {
   "cell_type": "markdown",
   "id": "fd4a3a2c",
   "metadata": {},
   "source": [
    "Below we consider a 1d TFIM."
   ]
  },
  {
   "cell_type": "code",
   "execution_count": 2,
   "id": "6d3f4d9a",
   "metadata": {},
   "outputs": [],
   "source": [
    "uc = 4\n",
    "jz = -1.0\n",
    "hx = -2.0\n",
    "\n",
    "oplist = MPOsum()\n",
    "for i = 1:uc\n",
    "    mpoadd!(oplist, 4 * jz, (i, \"Sz\"), (i + 1, \"Sz\"))  # ITensor defines spin-1/2 operators as sigma_j/2, therefore we compensate for the 1/2 factors in the coefficients.\n",
    "    mpoadd!(oplist, 2 * hx, (i, \"Sx\"))\n",
    "end\n",
    "\n",
    "sites = siteinds(\"S=1/2\", uc)\n",
    "iH = op_to_hm_inf(oplist, sites);  #Generate iMPO"
   ]
  },
  {
   "cell_type": "markdown",
   "id": "5e376b1b",
   "metadata": {},
   "source": [
    "# The output is a struct MPSdata, which contains the following data:\n",
    "1. MPSdata.ψ contains the iMPS in the form of $A_1$, $B_2$, $B_3$,..., $B_n$, where $n$ is the number of sites in a unit-cell. A's are left canonical, and B's are right canonical\n",
    "2. MPSdata.LP and MPSdata.RP are the environment, which can be useful if one wants to restart the iDMRG.\n",
    "3. MPSdata.lambda_1, this is the singular value $\\Lambda_1$ between site 1 and site 2.\n",
    "4. MPSdata.lambda_end, this is the singular value $\\Lambda_n$ between site $n$ and site 1.\n",
    "\n",
    "Therefore the true periodic infinite MPS should be as follows (which then repeats itself indefinitely):\n",
    "\n",
    "$[A_1\\ \\Lambda_1\\ B_2\\ B_3\\ ...\\ B_n\\ \\Lambda_n^{-1}]$"
   ]
  },
  {
   "cell_type": "code",
   "execution_count": 3,
   "id": "2b88724c",
   "metadata": {},
   "outputs": [
    {
     "name": "stdout",
     "output_type": "stream",
     "text": [
      "finish initialization\n",
      "Maximum bond dimension is: 2\n",
      "Energy is: -2.190473536556369\n",
      "<Λ(n)|Λ(n+1)> overlap is: 0.9911581811989701\n",
      "== Global sweep 1 ==\n",
      "Maximum bond dimension is: 5\n",
      "Energy is: -2.127107545943373\n",
      "<Λ(n)|Λ(n+1)> overlap is: 0.9999950382253208\n",
      "  Sweep 1\n",
      "Maximum bond dimension is: 5\n",
      "Energy is: -2.127088819600594\n",
      "<Λ(n)|Λ(n+1)> overlap is: 0.9999999999617517\n",
      "  Sweep 2\n",
      "Maximum bond dimension is: 5\n",
      "Energy is: -2.127088819582493\n",
      "<Λ(n)|Λ(n+1)> overlap is: 0.9999999999703374\n",
      "== Global sweep 2 ==\n",
      "Maximum bond dimension is: 5\n",
      "Energy is: -2.1270888195844933\n",
      "<Λ(n)|Λ(n+1)> overlap is: 0.9999999999690299\n",
      "  Sweep 1\n",
      "Maximum bond dimension is: 5\n",
      "Energy is: -2.1270888195804005\n",
      "<Λ(n)|Λ(n+1)> overlap is: 0.999999999969027\n",
      "  Sweep 2\n",
      "Maximum bond dimension is: 5\n",
      "Energy is: -2.127088819582344\n",
      "<Λ(n)|Λ(n+1)> overlap is: 0.9999999999703748\n",
      "== Global sweep 3 ==\n",
      "Maximum bond dimension is: 5\n",
      "Energy is: -2.127088819584415\n",
      "<Λ(n)|Λ(n+1)> overlap is: 0.999999999969029\n",
      "  Sweep 1\n",
      "Maximum bond dimension is: 5\n",
      "Energy is: -2.127088819580379\n",
      "<Λ(n)|Λ(n+1)> overlap is: 0.999999999969026\n",
      "  Sweep 2\n",
      "Maximum bond dimension is: 5\n",
      "Energy is: -2.127088819582454\n",
      "<Λ(n)|Λ(n+1)> overlap is: 0.9999999999703747\n",
      "  Sweep 3\n",
      "Maximum bond dimension is: 5\n",
      "Energy is: -2.1270888195824185\n",
      "<Λ(n)|Λ(n+1)> overlap is: 0.999999999970378\n"
     ]
    },
    {
     "data": {
      "text/plain": [
       "MPSdata(MPS\n",
       "[1] ((dim=2|id=848|\"S=1/2,Site,n=1\"), (dim=5|id=205|\"Link,u\"), (dim=5|id=926|\"Link,u\"))\n",
       "[2] ((dim=2|id=935|\"S=1/2,Site,n=2\"), (dim=20|id=468|\"Link,v\"), (dim=5|id=218|\"Link,v\"))\n",
       "[3] ((dim=10|id=279|\"Link,v\"), (dim=2|id=658|\"S=1/2,Site,n=3\"), (dim=20|id=468|\"Link,v\"))\n",
       "[4] ((dim=5|id=979|\"Link,v\"), (dim=2|id=478|\"S=1/2,Site,n=4\"), (dim=10|id=279|\"Link,v\"))\n",
       ", ITensor ord=3\n",
       "Dim 1: (dim=5|id=205|\"Link,u\")\n",
       "Dim 2: (dim=3|id=481)\n",
       "Dim 3: (dim=5|id=205|\"Link,u\")'\n",
       "NDTensors.Dense{ComplexF64, Vector{ComplexF64}}\n",
       " 5×3×5\n",
       "[:, :, 1] =\n",
       "      -93.46018392338304 + 0.0im  …       1.0000000000000095 + 0.0im\n",
       " -3.9951185216781985e-14 + 0.0im      1.2409087075121646e-16 + 0.0im\n",
       "  2.8617071197392814e-14 + 0.0im      -4.890423417399574e-17 + 0.0im\n",
       "    0.017477003030914363 + 0.0im     -1.4559271688503936e-16 + 0.0im\n",
       " -1.0722796956440392e-14 + 0.0im     -3.6309940095483954e-16 + 0.0im\n",
       "\n",
       "[:, :, 2] =\n",
       "  -3.097490049080732e-14 + 0.0im  …  1.1495261350267808e-16 + 0.0im\n",
       "      -89.86455936893131 + 0.0im           1.00000000000001 + 0.0im\n",
       "     -0.9727176820965593 + 0.0im     1.3647123617681535e-16 + 0.0im\n",
       " -1.1675618403854086e-14 + 0.0im      3.398242528591121e-16 + 0.0im\n",
       "     0.13275605317582903 + 0.0im     -8.022618145691753e-17 + 0.0im\n",
       "\n",
       "[:, :, 3] =\n",
       " 1.1488082671758921e-14 + 0.0im  …     1.66979006807775e-17 + 0.0im\n",
       "    -0.9727176820965627 + 0.0im       9.522434362987495e-17 + 0.0im\n",
       "     -89.73250010834043 + 0.0im          1.0000000000000087 + 0.0im\n",
       "  2.950727873527374e-14 + 0.0im       2.865190746089923e-16 + 0.0im\n",
       "    -0.9824626141361228 + 0.0im     -2.7228642576574436e-16 + 0.0im\n",
       "\n",
       "[:, :, 4] =\n",
       "     0.01747700303091505 + 0.0im  …   -1.470456615226864e-16 + 0.0im\n",
       " -2.8715211154778574e-14 + 0.0im      3.7455002852477478e-16 + 0.0im\n",
       "   3.562766625626056e-14 + 0.0im       2.584898400213144e-16 + 0.0im\n",
       "      -86.13604415591224 + 0.0im           1.000000000000008 + 0.0im\n",
       "    8.55815787505041e-14 + 0.0im     -1.8191122568995562e-18 + 0.0im\n",
       "\n",
       "[:, :, 5] =\n",
       " -8.916043001279028e-15 + 0.0im  …  -1.9070037141003464e-16 + 0.0im\n",
       "    0.13275605317582964 + 0.0im      -8.645088655320705e-17 + 0.0im\n",
       "     -0.982462614136125 + 0.0im     -2.9520094576843806e-16 + 0.0im\n",
       "  8.142706989230004e-14 + 0.0im      -3.220717376991342e-17 + 0.0im\n",
       "     -89.68680030417066 + 0.0im          1.0000000000000069 + 0.0im, ITensor ord=3\n",
       "Dim 1: (dim=5|id=979|\"Link,v\")\n",
       "Dim 2: (dim=3|id=481)\n",
       "Dim 3: (dim=5|id=979|\"Link,v\")'\n",
       "NDTensors.Dense{ComplexF64, Vector{ComplexF64}}\n",
       " 5×3×5\n",
       "[:, :, 1] =\n",
       "      1.0000000000000098 + 0.0im  …       -93.46019283137046 + 0.0im\n",
       "   -5.67884976960672e-17 + 0.0im     -1.4686987800812911e-15 + 0.0im\n",
       " -2.1729876379075399e-16 + 0.0im       2.776724754202642e-14 + 0.0im\n",
       "  -8.842473862763054e-17 + 0.0im         0.01747693732987847 + 0.0im\n",
       "  3.0102603053705326e-16 + 0.0im      1.1365492953428417e-14 + 0.0im\n",
       "\n",
       "[:, :, 2] =\n",
       "  -5.968246483821808e-17 + 0.0im  …  -9.072658796352233e-15 + 0.0im\n",
       "      1.0000000000000093 + 0.0im          -89.8645681554924 + 0.0im\n",
       " -1.7146407239003758e-16 + 0.0im        -0.9727164767698611 + 0.0im\n",
       "  -2.526610458926712e-16 + 0.0im     1.7012882857312414e-14 + 0.0im\n",
       "  -6.002298868285133e-17 + 0.0im        0.13276957237993123 + 0.0im\n",
       "\n",
       "[:, :, 3] =\n",
       " -1.9822542515628725e-16 + 0.0im  …  3.3525763143174003e-14 + 0.0im\n",
       " -1.2289867539347283e-16 + 0.0im        -0.9727164767698511 + 0.0im\n",
       "      1.0000000000000093 + 0.0im         -89.73254936092395 + 0.0im\n",
       "  -2.514829225340437e-16 + 0.0im      9.265109789307752e-14 + 0.0im\n",
       "  -3.726422686982683e-16 + 0.0im        -0.9831976942933093 + 0.0im\n",
       "\n",
       "[:, :, 4] =\n",
       "  -7.720684407612743e-17 + 0.0im  …     0.01747693732987844 + 0.0im\n",
       "  -2.600668625440698e-16 + 0.0im      2.178711685003494e-14 + 0.0im\n",
       " -2.2958257774271515e-16 + 0.0im      9.516048737784905e-14 + 0.0im\n",
       "      1.0000000000000095 + 0.0im          -86.1362891242652 + 0.0im\n",
       "  4.9441313079308036e-17 + 0.0im     1.5833126562102315e-13 + 0.0im\n",
       "\n",
       "[:, :, 5] =\n",
       "  2.975021929777544e-16 + 0.0im  …  -9.720739284156071e-16 + 0.0im\n",
       " -8.451399389122072e-17 + 0.0im        0.13276957237993028 + 0.0im\n",
       " -4.161269678780428e-16 + 0.0im         -0.983197694293305 + 0.0im\n",
       "  8.549030445458103e-17 + 0.0im     1.6313327701800917e-13 + 0.0im\n",
       "     1.0000000000000093 + 0.0im         -89.69672786333703 + 0.0im, ITensor ord=2\n",
       "Dim 1: (dim=5|id=926|\"Link,u\")\n",
       "Dim 2: (dim=5|id=218|\"Link,v\")\n",
       "NDTensors.Diag{Float64, Vector{Float64}}\n",
       " 5×5\n",
       " 0.9911302711205132  0.0                  …  0.0\n",
       " 0.0                 0.13287204272896982     0.0\n",
       " 0.0                 0.0                     0.0\n",
       " 0.0                 0.0                     0.0\n",
       " 0.0                 0.0                     4.1692009274183045e-5, ITensor ord=2\n",
       "Dim 1: (dim=5|id=205|\"Link,u\")\n",
       "Dim 2: (dim=5|id=979|\"Link,v\")\n",
       "NDTensors.Diag{Float64, Vector{Float64}}\n",
       " 5×5\n",
       " 0.991130271487367  0.0                  …  0.0\n",
       " 0.0                0.13287203945998577     0.0\n",
       " 0.0                0.0                     0.0\n",
       " 0.0                0.0                     0.0\n",
       " 0.0                0.0                     4.202875360499001e-5)"
      ]
     },
     "execution_count": 3,
     "metadata": {},
     "output_type": "execute_result"
    }
   ],
   "source": [
    "finalstate = idmrg_run(iH, sites; maxdimlist=[50, 100, 250], sweeplist=[2, 2, 3], init_cutoff=1e-2, cutoff=1e-10)"
   ]
  },
  {
   "cell_type": "markdown",
   "id": "e48d4649",
   "metadata": {},
   "source": [
    "The GS energy from iDMRG is $-2.1270888195824185$, which can be compared with the exact energy given by $-1/2 \\frac{1}{\\pi}\\int^{\\pi}_{0}dk \\epsilon_k$, where $\\epsilon_k=2\\sqrt(j^2+h^2-2jh\\text{cos}(k))$."
   ]
  },
  {
   "cell_type": "code",
   "execution_count": null,
   "id": "04eeb432",
   "metadata": {},
   "outputs": [
    {
     "name": "stdout",
     "output_type": "stream",
     "text": [
      "Ground state energy = 2.12708881994673\n"
     ]
    }
   ],
   "source": [
    "using QuadGK\n",
    "# dispersion\n",
    "ε(k) = 2 * sqrt(jz^2 + hx^2 - 2jz*hx*cos(k))\n",
    "\n",
    "# e.g. integrate over the 1D Brillouin zone [0, π]\n",
    "gse = quadgk(k -> ε(k), 0, π; rtol=1e-10)[1]/2pi\n",
    "\n",
    "println(\"Ground state energy = $gse\")"
   ]
  },
  {
   "cell_type": "markdown",
   "id": "403cd423",
   "metadata": {},
   "source": [
    "# Transforming the states in canonical forms:\n",
    "The above output is of course unwieldy. We can use the following two functions to transform it into canonical forms.\n",
    "\n",
    "The idea is to transform an arbitrary iMPS $MMM$ into left-canonical or right-canonical form. We have $A=LML^{-1}$. Therefore $...MMMMM=...AAAAAL$, where one $L$ is pulled to left infinity. Similarly $B=R^{-1}MR$. Therefore $MMM...=RBBB...$.\n",
    "\n",
    "From these we can also case the iMPS into a mixed canonical form which can then be used to compute correlation functions. The idea is, $...MMMM...=...AA(LR)BB...$, where $(LR)$ is the SVD of the center site. \n",
    "\n",
    "Don't forget to normalize, though. "
   ]
  },
  {
   "cell_type": "code",
   "execution_count": 17,
   "id": "28eb6e83",
   "metadata": {},
   "outputs": [
    {
     "name": "stdout",
     "output_type": "stream",
     "text": [
      "Converged after 2 sweeps with error 8.43769498715119e-15\n",
      "Below is the result\n",
      "0.999999999794398 + 0.0im\n"
     ]
    }
   ],
   "source": [
    "ψA,L1=left_canonical_form(finalstate,sites); # I used an iteration algorithm so the output is a convergence criteria which is not material."
   ]
  },
  {
   "cell_type": "code",
   "execution_count": 18,
   "id": "ebd4daeb",
   "metadata": {},
   "outputs": [
    {
     "name": "stdout",
     "output_type": "stream",
     "text": [
      "Converged after 6 sweeps with error 3.6078537030962846e-11\n",
      "Below is the result\n",
      "1.000000000000056 + 1.300804754770646e-15im\n"
     ]
    }
   ],
   "source": [
    "ψB,Rl=right_canonical_form(finalstate,sites); "
   ]
  },
  {
   "cell_type": "code",
   "execution_count": 19,
   "id": "73c0606c",
   "metadata": {},
   "outputs": [
    {
     "data": {
      "text/plain": [
       "ITensor ord=2 (dim=5|id=434|\"Link,qr\") (dim=5|id=404|\"Link,rq\")\n",
       "NDTensors.Dense{ComplexF64, Vector{ComplexF64}}"
      ]
     },
     "execution_count": 19,
     "metadata": {},
     "output_type": "execute_result"
    }
   ],
   "source": [
    "Λc = L1 * Rl\n",
    "Λc = Λc / sqrt(tr(array(Λc) * transpose(conj(array(Λc)))))"
   ]
  },
  {
   "cell_type": "markdown",
   "id": "59690d02",
   "metadata": {},
   "source": [
    "The final iMPS in the mixed gauge is therefore $\\cdots \\psi_A\\ \\psi_A\\ \\Lambda_c\\ \\psi_B\\ \\psi_B\\ \\cdots$"
   ]
  }
 ],
 "metadata": {
  "kernelspec": {
   "display_name": "Julia (4 threads) 1.10.2",
   "language": "julia",
   "name": "julia-_4-threads_-1.10"
  },
  "language_info": {
   "file_extension": ".jl",
   "mimetype": "application/julia",
   "name": "julia",
   "version": "1.10.2"
  }
 },
 "nbformat": 4,
 "nbformat_minor": 5
}
