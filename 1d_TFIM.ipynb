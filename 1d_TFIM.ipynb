{
 "cells": [
  {
   "cell_type": "code",
   "execution_count": null,
   "id": "ff78884a",
   "metadata": {},
   "outputs": [],
   "source": [
    "include(\"./src/MPO_common.jl\")\n",
    "using .MPO_common\n",
    "using JLD2\n",
    "using BenchmarkTools\n",
    "using ITensors\n",
    "using KrylovKit\n",
    "using LinearAlgebra\n",
    "include(\"./src/iDMRG.jl\")\n",
    "using .iDMRG"
   ]
  },
  {
   "cell_type": "code",
   "execution_count": 2,
   "id": "207ad09d",
   "metadata": {},
   "outputs": [
    {
     "name": "stdout",
     "output_type": "stream",
     "text": [
      "finish initialization\n",
      "Maximum bond dimension is: 2\n",
      "Energy is: -2.9073261161463777\n",
      "Lambda overlap is: 0.8372434609252518\n",
      "This is global sweep 1\n",
      "Maximum bond dimension is: 16\n",
      "Energy is: -1.7987064655521128\n",
      "Lambda overlap is: 0.9814149324119115\n",
      "Sweep 1\n",
      "Maximum bond dimension is: 50\n",
      "Energy is: -1.7588015496597424\n",
      "Lambda overlap is: 0.9762713972316766\n",
      "Sweep 2\n",
      "Maximum bond dimension is: 50\n",
      "Energy is: -2.2335139052013964\n",
      "Lambda overlap is: 0.9900673454133663\n",
      "This is global sweep 2\n",
      "Maximum bond dimension is: 100\n",
      "Energy is: -2.357524605580558\n",
      "Lambda overlap is: 0.9929384990388126\n",
      "Sweep 1\n",
      "Maximum bond dimension is: 100\n",
      "Energy is: -2.3584101238681114\n",
      "Lambda overlap is: 0.999433555400534\n",
      "Sweep 2\n",
      "Maximum bond dimension is: 100\n",
      "Energy is: -2.365936329366164\n",
      "Lambda overlap is: 0.9998245192672424\n",
      "This is global sweep 3\n",
      "Maximum bond dimension is: 250\n",
      "Energy is: -2.3787911478941957\n",
      "Lambda overlap is: 0.9989845903496786\n",
      "Sweep 1\n",
      "Maximum bond dimension is: 250\n",
      "Energy is: -2.3771015086035825\n",
      "Lambda overlap is: 0.9998461508826327\n",
      "Sweep 2\n",
      "Maximum bond dimension is: 250\n",
      "Energy is: -2.377730959013865\n",
      "Lambda overlap is: 0.999949518366404\n",
      "Sweep 3\n",
      "Maximum bond dimension is: 250\n",
      "Energy is: -2.3782393275261122\n",
      "Lambda overlap is: 0.9999601974364812\n"
     ]
    }
   ],
   "source": [
    "J1 = 4 * 1.0\n",
    "Delta = 4 * 0.5\n",
    "J2 = 4 * 0.2\n",
    "Ly = 6\n",
    "uc = Ly\n",
    "\n",
    "oplist = MPOsum()\n",
    "for i = 1:Ly\n",
    "    mpoadd!(oplist, J1 + Delta, (i, \"Sz\"), (mod1(i + 1, 6), \"Sz\"))\n",
    "    mpoadd!(oplist, J1, (i, \"Sx\"), (mod1(i + 1, 6), \"Sx\"))\n",
    "    mpoadd!(oplist, J1, (i, \"Sy\"), (mod1(i + 1, 6), \"Sy\"))\n",
    "    mpoadd!(oplist, J1 + Delta, (i, \"Sz\"), (mod1(i + 1, 6) + 6, \"Sz\"))\n",
    "    mpoadd!(oplist, J1, (i, \"Sx\"), (mod1(i + 1, 6) + 6, \"Sx\"))\n",
    "    mpoadd!(oplist, J1, (i, \"Sy\"), (mod1(i + 1, 6) + 6, \"Sy\"))\n",
    "    mpoadd!(oplist, J1 + Delta, (i, \"Sz\"), (i + 6, \"Sz\"))\n",
    "    mpoadd!(oplist, J1, (i, \"Sx\"), (i + 6, \"Sx\"))\n",
    "    mpoadd!(oplist, J1, (i, \"Sy\"), (i + 6, \"Sy\"))\n",
    "\n",
    "    mpoadd!(oplist, J2, (i, \"Sz\"), (mod1(i + 2, 6) + 6, \"Sz\"))\n",
    "    mpoadd!(oplist, J2, (i, \"Sx\"), (mod1(i + 2, 6) + 6, \"Sx\"))\n",
    "    mpoadd!(oplist, J2, (i, \"Sy\"), (mod1(i + 2, 6) + 6, \"Sy\"))\n",
    "    mpoadd!(oplist, J2, (i, \"Sz\"), (mod1(i + 1, 6) + 12, \"Sz\"))\n",
    "    mpoadd!(oplist, J2, (i, \"Sx\"), (mod1(i + 1, 6) + 12, \"Sx\"))\n",
    "    mpoadd!(oplist, J2, (i, \"Sy\"), (mod1(i + 1, 6) + 12, \"Sy\"))\n",
    "    mpoadd!(oplist, J2, (i, \"Sz\"), (mod1(i - 1, 6) + 6, \"Sz\"))\n",
    "    mpoadd!(oplist, J2, (i, \"Sx\"), (mod1(i - 1, 6) + 6, \"Sx\"))\n",
    "    mpoadd!(oplist, J2, (i, \"Sy\"), (mod1(i - 1, 6) + 6, \"Sy\"))\n",
    "end\n",
    "\n",
    "sites = siteinds(\"S=1/2\", uc)\n",
    "iH = op_to_hm_inf(oplist, sites);\n",
    "\n",
    "leftinds = Vector{Index}(undef, uc)\n",
    "for i = 1:uc\n",
    "    leftinds[i] = commonind(iH[mod1(i - 1, uc)], iH[i])\n",
    "end\n",
    "\n",
    "resultvalue = iDMRG_init(sites, leftinds)\n",
    "psis0 = resultvalue[1]\n",
    "LP10 = resultvalue[2]\n",
    "RPuc = resultvalue[3]\n",
    "L_2 = resultvalue[4]\n",
    "L_4 = resultvalue[5]\n",
    "println(\"finish initialization\")\n",
    "flush(stdout)\n",
    "#End of initialization\n",
    "\n",
    "psis0, lp10, rpuc, l2, l4 = iDMRG_init(sites, leftinds)\n",
    "maxdimlist = [50, 100, 250, 250, 200, 200]\n",
    "sweeplist = [2, 2, 3, 10, 10, 20];\n",
    "updatedlist = idmrg_general(iH, psis0, lp10, rpuc, l2, l4; maxdim=maxdimlist[1], cutoff=1e-2, nsweeps=1)\n",
    "\n",
    "for l = 1:3\n",
    "    println(\"This is global sweep $l\")\n",
    "    if l <= 3\n",
    "        dmrgsweeptime = @elapsed updatedlist = idmrg_general(iH, updatedlist[1], updatedlist[2], updatedlist[3], updatedlist[4], updatedlist[5]; nsweeps=1, krylovdimmax=3, niter=1, maxdim=maxdimlist[l], cutoff=1e-10,noise=1e-2)\n",
    "    end\n",
    "    for i = 1:sweeplist[l] #We turn on the noise in the first few runs\n",
    "        println(\"Sweep $i\")\n",
    "        flush(stdout)\n",
    "        dmrgsweeptime = @elapsed updatedlist = idmrg_general(iH, updatedlist[1], updatedlist[2], updatedlist[3], updatedlist[4], updatedlist[5]; nsweeps=1, krylovdimmax=2, niter=1, maxdim=maxdimlist[l], cutoff=1e-10)\n",
    "        flush(stdout)\n",
    "    end\n",
    "end\n"
   ]
  },
  {
   "cell_type": "code",
   "execution_count": 6,
   "id": "ce6afa7d",
   "metadata": {},
   "outputs": [
    {
     "data": {
      "text/plain": [
       "0.08196596801280975"
      ]
     },
     "execution_count": 6,
     "metadata": {},
     "output_type": "execute_result"
    }
   ],
   "source": [
    "Base.summarysize(updatedlist)/1024^3"
   ]
  }
 ],
 "metadata": {
  "kernelspec": {
   "display_name": "Julia (4 threads) 1.10.2",
   "language": "julia",
   "name": "julia-_4-threads_-1.10"
  },
  "language_info": {
   "file_extension": ".jl",
   "mimetype": "application/julia",
   "name": "julia",
   "version": "1.10.2"
  }
 },
 "nbformat": 4,
 "nbformat_minor": 5
}
