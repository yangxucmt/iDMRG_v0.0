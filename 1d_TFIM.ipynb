{
 "cells": [
  {
   "cell_type": "code",
   "execution_count": null,
   "id": "ff78884a",
   "metadata": {},
   "outputs": [],
   "source": [
    "include(\"./src/MPO_common.jl\")\n",
    "using .MPO_common\n",
    "using JLD2\n",
    "using ITensors\n",
    "using LinearAlgebra\n",
    "include(\"./src/iDMRG.jl\")\n",
    "using .iDMRG"
   ]
  },
  {
   "cell_type": "markdown",
   "id": "95c07c92",
   "metadata": {},
   "source": [
    "# krylovdimmax=2, niter=1 are important inside the loop. In general if they are large, the computation time for each dmrg sweep is longer, and when it finally converges, we don't need it to be large. But for certain gapped phases, we can take them to be large to speed up the convergence and hence reduce the total number of sweeps.\n",
    "\n",
    "# The algorithm used for noise is the DMRG_SSS modified to the 2-site case."
   ]
  },
  {
   "cell_type": "markdown",
   "id": "6a18bd4b",
   "metadata": {},
   "source": [
    "The output of our idmrg code is similar to Binder, Barthel (PHYSICAL REVIEW B98,235114(2018)). We have periodic cell $[A, \\Lambda, B,... B , \\Lambda^{-1}]$. We can then use the gauging methods described in Ref."
   ]
  },
  {
   "cell_type": "code",
   "execution_count": 2,
   "id": "772a45fa",
   "metadata": {},
   "outputs": [
    {
     "data": {
      "text/plain": [
       "-2.0"
      ]
     },
     "execution_count": 2,
     "metadata": {},
     "output_type": "execute_result"
    }
   ],
   "source": [
    "Ly = 3 # Here it denotes number of true unit-cells\n",
    "uc = 2 * Ly\n",
    "Jx = -0.5\n",
    "Jy = -0.5\n",
    "Jz = -2.0"
   ]
  },
  {
   "cell_type": "markdown",
   "id": "081da3c0",
   "metadata": {},
   "source": [
    "# Parameters for convergence:\n",
    "Jx=-0.5\n",
    "Jy=-0.5\n",
    "Jz=-2.0\n",
    "Ly=4\n",
    "maxdimlist = [50, 100, 150]\n",
    "sweeplist = [10, 10, 40];\n",
    "updatedlist = idmrg_general(iH, psis0, lp10, rpuc, l2, l4; maxdim=maxdimlist[1], cutoff=1e-2, nsweeps=1)\n",
    "\n",
    "for l = 1:3\n",
    "    println(\"This is global sweep $l\")\n",
    "    if l <= 3\n",
    "        for j = 1:2\n",
    "            dmrgsweeptime = @elapsed updatedlist = idmrg_general(iH, updatedlist[1], updatedlist[2], updatedlist[3], updatedlist[4], updatedlist[5]; nsweeps=1, krylovdimmax=6, niter=3, maxdim=maxdimlist[l], cutoff=1e-10, noise=1e-3)\n",
    "        end\n",
    "    end\n",
    "    for i = 1:sweeplist[l] #We turn on the noise in the first few runs\n",
    "        println(\"Sweep $i\")\n",
    "        flush(stdout)\n",
    "        dmrgsweeptime = @elapsed updatedlist = idmrg_general(iH, updatedlist[1], updatedlist[2], updatedlist[3], updatedlist[4], updatedlist[5]; nsweeps=1, krylovdimmax=6, niter=3, maxdim=maxdimlist[l], cutoff=1e-10)\n",
    "        flush(stdout)\n",
    "    end\n",
    "end"
   ]
  },
  {
   "cell_type": "code",
   "execution_count": 51,
   "id": "73721e7f",
   "metadata": {},
   "outputs": [
    {
     "name": "stdout",
     "output_type": "stream",
     "text": [
      "finish initialization\n",
      "Maximum bond dimension is: 1\n",
      "Energy is: -1.1332361086176748\n",
      "Lambda overlap is: 1.0000000000000002\n",
      "This is global sweep 1\n",
      "Maximum bond dimension is: 4\n",
      "Energy is: -1.3466122530371873\n",
      "Lambda overlap is: 0.7058138149712857\n",
      "Maximum bond dimension is: 6\n",
      "Energy is: -1.0227554313185578\n",
      "Lambda overlap is: 0.9999984150507899\n",
      "Sweep 1\n",
      "Maximum bond dimension is: 6\n",
      "Energy is: -1.0227555568009166\n",
      "Lambda overlap is: 0.9999999855980087\n",
      "Sweep 2\n",
      "Maximum bond dimension is: 10\n",
      "Energy is: -1.0227633399953493\n",
      "Lambda overlap is: 0.9999999511578255\n",
      "Sweep 3\n",
      "Maximum bond dimension is: 16\n",
      "Energy is: -1.0279566123864103\n",
      "Lambda overlap is: 0.9999117404084438\n",
      "Sweep 4\n",
      "Maximum bond dimension is: 23\n",
      "Energy is: -1.0280428554565024\n",
      "Lambda overlap is: 0.9987499334991259\n",
      "Sweep 5\n",
      "Maximum bond dimension is: 43\n",
      "Energy is: -1.0332870999997372\n",
      "Lambda overlap is: 0.9996532588580971\n",
      "Sweep 6\n",
      "Maximum bond dimension is: 49\n",
      "Energy is: -1.0332107630369787\n",
      "Lambda overlap is: 0.9996643004428415\n",
      "Sweep 7\n",
      "Maximum bond dimension is: 50\n",
      "Energy is: -1.0332202185898065\n",
      "Lambda overlap is: 0.9976422583718599\n",
      "Sweep 8\n",
      "Maximum bond dimension is: 50\n",
      "Energy is: -1.0332348815813621\n",
      "Lambda overlap is: 0.9955938384035112\n",
      "Sweep 9\n",
      "Maximum bond dimension is: 50\n",
      "Energy is: -1.0332519026264702\n",
      "Lambda overlap is: 0.9953734864692374\n",
      "Sweep 10\n",
      "Maximum bond dimension is: 50\n",
      "Energy is: -1.0332627905277814\n",
      "Lambda overlap is: 0.997737114602157\n",
      "Sweep 11\n",
      "Maximum bond dimension is: 50\n",
      "Energy is: -1.0332660471148596\n",
      "Lambda overlap is: 0.9990324884347247\n",
      "Sweep 12\n",
      "Maximum bond dimension is: 50\n",
      "Energy is: -1.0332716176400776\n",
      "Lambda overlap is: 0.999443269663821\n",
      "Sweep 13\n",
      "Maximum bond dimension is: 50\n",
      "Energy is: -1.0332805831263983\n",
      "Lambda overlap is: 0.9998741167521681\n",
      "Sweep 14\n",
      "Maximum bond dimension is: 50\n",
      "Energy is: -1.0332979390995263\n",
      "Lambda overlap is: 0.9987673495913181\n",
      "Sweep 15\n",
      "Maximum bond dimension is: 50\n",
      "Energy is: -1.0333225028517603\n",
      "Lambda overlap is: 0.995534350303338\n",
      "Sweep 16\n",
      "Maximum bond dimension is: 50\n",
      "Energy is: -1.0333475874029479\n",
      "Lambda overlap is: 0.9962339989273165\n",
      "Sweep 17\n",
      "Maximum bond dimension is: 50\n",
      "Energy is: -1.033368802946806\n",
      "Lambda overlap is: 0.9970264005515612\n",
      "Sweep 18\n",
      "Maximum bond dimension is: 50\n",
      "Energy is: -1.0333750973999496\n",
      "Lambda overlap is: 0.9979150979912486\n",
      "Sweep 19\n",
      "Maximum bond dimension is: 46\n",
      "Energy is: -1.033379265635394\n",
      "Lambda overlap is: 0.9990210572830303\n",
      "Sweep 20\n",
      "Maximum bond dimension is: 46\n",
      "Energy is: -1.0333800146705794\n",
      "Lambda overlap is: 0.9994350306357864\n",
      "This is global sweep 2\n",
      "Maximum bond dimension is: 65\n",
      "Energy is: -1.0333829763800964\n",
      "Lambda overlap is: 0.9996015174256407\n",
      "Maximum bond dimension is: 65\n",
      "Energy is: -1.0333820451168758\n",
      "Lambda overlap is: 0.9998289902716739\n",
      "Sweep 1\n",
      "Maximum bond dimension is: 62\n",
      "Energy is: -1.0333819711363503\n",
      "Lambda overlap is: 0.999973773036811\n",
      "Sweep 2\n",
      "Maximum bond dimension is: 61\n",
      "Energy is: -1.0333819841373781\n",
      "Lambda overlap is: 0.9999915051190155\n",
      "Sweep 3\n",
      "Maximum bond dimension is: 60\n",
      "Energy is: -1.0333819794113595\n",
      "Lambda overlap is: 0.9999997794106033\n",
      "Sweep 4\n",
      "Maximum bond dimension is: 60\n",
      "Energy is: -1.0333819791459575\n",
      "Lambda overlap is: 0.9999999910272694\n",
      "Sweep 5\n",
      "Maximum bond dimension is: 60\n",
      "Energy is: -1.0333819791575725\n",
      "Lambda overlap is: 0.9999999989675562\n",
      "Sweep 6\n",
      "Maximum bond dimension is: 60\n",
      "Energy is: -1.0333819791585863\n",
      "Lambda overlap is: 0.9999999998852884\n",
      "Sweep 7\n",
      "Maximum bond dimension is: 60\n",
      "Energy is: -1.0333819791609358\n",
      "Lambda overlap is: 0.9999999999128015\n",
      "Sweep 8\n",
      "Maximum bond dimension is: 60\n",
      "Energy is: -1.0333819791620253\n",
      "Lambda overlap is: 0.9999999999124061\n",
      "Sweep 9\n",
      "Maximum bond dimension is: 60\n",
      "Energy is: -1.033381979163001\n",
      "Lambda overlap is: 0.9999999999127486\n",
      "Sweep 10\n",
      "Maximum bond dimension is: 60\n",
      "Energy is: -1.0333819791634937\n",
      "Lambda overlap is: 0.9999999999127176\n",
      "Sweep 11\n",
      "Maximum bond dimension is: 60\n",
      "Energy is: -1.033381979164261\n",
      "Lambda overlap is: 0.999999999912699\n",
      "Sweep 12\n",
      "Maximum bond dimension is: 60\n",
      "Energy is: -1.0333819791647727\n",
      "Lambda overlap is: 0.9999999999126873\n",
      "Sweep 13\n",
      "Maximum bond dimension is: 60\n",
      "Energy is: -1.0333819791647254\n",
      "Lambda overlap is: 0.9999999999126514\n",
      "Sweep 14\n",
      "Maximum bond dimension is: 60\n",
      "Energy is: -1.033381979165635\n",
      "Lambda overlap is: 0.9999999999126297\n",
      "Sweep 15\n",
      "Maximum bond dimension is: 60\n",
      "Energy is: -1.0333819791650285\n",
      "Lambda overlap is: 0.9999999999126274\n",
      "Sweep 16\n",
      "Maximum bond dimension is: 60\n",
      "Energy is: -1.03338197916554\n",
      "Lambda overlap is: 0.9999999999126106\n",
      "Sweep 17\n",
      "Maximum bond dimension is: 60\n",
      "Energy is: -1.03338197916608\n",
      "Lambda overlap is: 0.9999999999126039\n",
      "Sweep 18\n",
      "Maximum bond dimension is: 60\n",
      "Energy is: -1.0333819791665633\n",
      "Lambda overlap is: 0.9999999999125952\n",
      "Sweep 19\n",
      "Maximum bond dimension is: 60\n",
      "Energy is: -1.0333819791657675\n",
      "Lambda overlap is: 0.9999999999125682\n",
      "Sweep 20\n",
      "Maximum bond dimension is: 60\n",
      "Energy is: -1.033381979165976\n",
      "Lambda overlap is: 0.9999999999125453\n",
      "This is global sweep 3\n",
      "Maximum bond dimension is: 60\n",
      "Energy is: -1.0333819812693719\n",
      "Lambda overlap is: 0.99999999990207\n",
      "Maximum bond dimension is: 60\n",
      "Energy is: -1.033381979921406\n",
      "Lambda overlap is: 0.9999999999019222\n",
      "Sweep 1\n",
      "Maximum bond dimension is: 60\n",
      "Energy is: -1.033381978839638\n",
      "Lambda overlap is: 0.9999999998994429\n",
      "Sweep 2\n",
      "Maximum bond dimension is: 60\n",
      "Energy is: -1.0333819794367212\n",
      "Lambda overlap is: 0.9999999999088707\n",
      "Sweep 3\n",
      "Maximum bond dimension is: 60\n",
      "Energy is: -1.0333819795606018\n",
      "Lambda overlap is: 0.9999999999166618\n",
      "Sweep 4\n",
      "Maximum bond dimension is: 60\n",
      "Energy is: -1.033381979558764\n",
      "Lambda overlap is: 0.9999999999168873\n",
      "Sweep 5\n",
      "Maximum bond dimension is: 60\n",
      "Energy is: -1.0333819795587071\n",
      "Lambda overlap is: 0.9999999999169655\n",
      "Sweep 6\n",
      "Maximum bond dimension is: 60\n",
      "Energy is: -1.0333819795598629\n",
      "Lambda overlap is: 0.9999999999170106\n",
      "Sweep 7\n",
      "Maximum bond dimension is: 60\n",
      "Energy is: -1.0333819795595218\n",
      "Lambda overlap is: 0.9999999999170393\n",
      "Sweep 8\n",
      "Maximum bond dimension is: 60\n",
      "Energy is: -1.0333819795603365\n",
      "Lambda overlap is: 0.9999999999170515\n",
      "Sweep 9\n",
      "Maximum bond dimension is: 60\n",
      "Energy is: -1.0333819795602608\n",
      "Lambda overlap is: 0.9999999999170561\n",
      "Sweep 10\n",
      "Maximum bond dimension is: 60\n",
      "Energy is: -1.0333819795599954\n",
      "Lambda overlap is: 0.9999999999170535\n",
      "Sweep 11\n",
      "Maximum bond dimension is: 60\n",
      "Energy is: -1.033381979561284\n",
      "Lambda overlap is: 0.9999999999170516\n",
      "Sweep 12\n",
      "Maximum bond dimension is: 60\n",
      "Energy is: -1.033381979561644\n",
      "Lambda overlap is: 0.9999999999170581\n",
      "Sweep 13\n",
      "Maximum bond dimension is: 60\n",
      "Energy is: -1.0333819795613597\n",
      "Lambda overlap is: 0.9999999999170668\n",
      "Sweep 14\n",
      "Maximum bond dimension is: 60\n",
      "Energy is: -1.033381979561265\n",
      "Lambda overlap is: 0.9999999999170746\n",
      "Sweep 15\n",
      "Maximum bond dimension is: 60\n",
      "Energy is: -1.0333819795619472\n",
      "Lambda overlap is: 0.9999999999170788\n",
      "Sweep 16\n",
      "Maximum bond dimension is: 60\n",
      "Energy is: -1.0333819795617576\n",
      "Lambda overlap is: 0.9999999999170841\n",
      "Sweep 17\n",
      "Maximum bond dimension is: 60\n",
      "Energy is: -1.0333819795617198\n",
      "Lambda overlap is: 0.9999999999170844\n",
      "Sweep 18\n",
      "Maximum bond dimension is: 60\n",
      "Energy is: -1.0333819795620798\n",
      "Lambda overlap is: 0.9999999999170794\n",
      "Sweep 19\n",
      "Maximum bond dimension is: 60\n",
      "Energy is: -1.033381979561966\n",
      "Lambda overlap is: 0.9999999999170799\n",
      "Sweep 20\n",
      "Maximum bond dimension is: 60\n",
      "Energy is: -1.0333819795615113\n",
      "Lambda overlap is: 0.9999999999170786\n",
      "Sweep 21\n",
      "Maximum bond dimension is: 60\n",
      "Energy is: -1.0333819795619472\n",
      "Lambda overlap is: 0.9999999999170799\n",
      "Sweep 22\n",
      "Maximum bond dimension is: 60\n",
      "Energy is: -1.0333819795619472\n",
      "Lambda overlap is: 0.9999999999170841\n",
      "Sweep 23\n",
      "Maximum bond dimension is: 60\n",
      "Energy is: -1.0333819795621555\n",
      "Lambda overlap is: 0.9999999999170779\n",
      "Sweep 24\n",
      "Maximum bond dimension is: 60\n",
      "Energy is: -1.0333819795616062\n",
      "Lambda overlap is: 0.9999999999170714\n",
      "Sweep 25\n",
      "Maximum bond dimension is: 60\n",
      "Energy is: -1.0333819795617198\n",
      "Lambda overlap is: 0.9999999999170688\n",
      "Sweep 26\n",
      "Maximum bond dimension is: 60\n",
      "Energy is: -1.0333819795621366\n",
      "Lambda overlap is: 0.9999999999170722\n",
      "Sweep 27\n",
      "Maximum bond dimension is: 60\n",
      "Energy is: -1.033381979563103\n",
      "Lambda overlap is: 0.9999999999170781\n",
      "Sweep 28\n",
      "Maximum bond dimension is: 60\n",
      "Energy is: -1.033381979561625\n",
      "Lambda overlap is: 0.9999999999170761\n",
      "Sweep 29\n",
      "Maximum bond dimension is: 60\n",
      "Energy is: -1.0333819795620798\n",
      "Lambda overlap is: 0.9999999999170719\n",
      "Sweep 30\n",
      "Maximum bond dimension is: 60\n",
      "Energy is: -1.0333819795617576\n",
      "Lambda overlap is: 0.9999999999170672\n",
      "Sweep 31\n",
      "Maximum bond dimension is: 60\n",
      "Energy is: -1.033381979561966\n",
      "Lambda overlap is: 0.9999999999170712\n",
      "Sweep 32\n",
      "Maximum bond dimension is: 60\n",
      "Energy is: -1.0333819795621366\n",
      "Lambda overlap is: 0.9999999999170774\n",
      "Sweep 33\n",
      "Maximum bond dimension is: 60\n",
      "Energy is: -1.0333819795619472\n",
      "Lambda overlap is: 0.999999999917075\n",
      "Sweep 34\n",
      "Maximum bond dimension is: 60\n",
      "Energy is: -1.033381979562004\n",
      "Lambda overlap is: 0.9999999999170799\n",
      "Sweep 35\n",
      "Maximum bond dimension is: 60\n",
      "Energy is: -1.0333819795626862\n",
      "Lambda overlap is: 0.9999999999170743\n",
      "Sweep 36\n",
      "Maximum bond dimension is: 60\n",
      "Energy is: -1.0333819795622314\n",
      "Lambda overlap is: 0.9999999999170692\n",
      "Sweep 37\n",
      "Maximum bond dimension is: 60\n",
      "Energy is: -1.033381979562402\n",
      "Lambda overlap is: 0.999999999917073\n",
      "Sweep 38\n",
      "Maximum bond dimension is: 60\n",
      "Energy is: -1.0333819795619472\n",
      "Lambda overlap is: 0.9999999999170718\n",
      "Sweep 39\n",
      "Maximum bond dimension is: 60\n",
      "Energy is: -1.0333819795626293\n",
      "Lambda overlap is: 0.9999999999170734\n",
      "Sweep 40\n",
      "Maximum bond dimension is: 60\n",
      "Energy is: -1.0333819795624777\n",
      "Lambda overlap is: 0.9999999999170686\n"
     ]
    }
   ],
   "source": [
    "oplist = MPOsum()\n",
    "for i = 1:Ly\n",
    "    mpoadd!(oplist, 4 * Jx, (2 * i - 1, \"Sx\"), (2 * i, \"Sx\"))\n",
    "    mpoadd!(oplist, 4 * Jy, (2 * i - 1, \"Sy\"), (2 * i + 2 * Ly, \"Sy\"))\n",
    "end\n",
    "\n",
    "for i = 1:Ly\n",
    "    mpoadd!(oplist, 4 * Jz, (2 * i, \"Sz\"), (mod1(2 * i + 1, 2 * Ly), \"Sz\"))\n",
    "end\n",
    "\n",
    "sites = siteinds(\"S=1/2\", uc)\n",
    "iH = op_to_hm_inf(oplist, sites);\n",
    "\n",
    "leftinds = Vector{Index}(undef, uc)\n",
    "for i = 1:uc\n",
    "    leftinds[i] = commonind(iH[mod1(i - 1, uc)], iH[i])\n",
    "end\n",
    "\n",
    "resultvalue = iDMRG_init(sites, leftinds)\n",
    "psis0 = resultvalue[1]\n",
    "LP10 = resultvalue[2]\n",
    "RPuc = resultvalue[3]\n",
    "L_2 = resultvalue[4]\n",
    "L_4 = resultvalue[5]\n",
    "println(\"finish initialization\")\n",
    "flush(stdout)\n",
    "#End of initialization\n",
    "\n",
    "psis0, lp10, rpuc, l2, l4 = iDMRG_init(sites, leftinds)\n",
    "maxdimlist = [50, 100, 150, 250, 200, 200]\n",
    "sweeplist = [20, 20, 40, 10, 10, 20];\n",
    "updatedlist = idmrg_general(iH, psis0, lp10, rpuc, l2, l4; maxdim=maxdimlist[1], cutoff=1e-2, nsweeps=1)\n",
    "\n",
    "for l = 1:3\n",
    "    println(\"This is global sweep $l\")\n",
    "    if l <= 3\n",
    "        for j = 1:2\n",
    "            dmrgsweeptime = @elapsed updatedlist = idmrg_general(iH, updatedlist[1], updatedlist[2], updatedlist[3], updatedlist[4], updatedlist[5]; nsweeps=1, krylovdimmax=6, niter=3, maxdim=maxdimlist[l], cutoff=1e-10, noise=1e-3)\n",
    "        end\n",
    "    end\n",
    "    for i = 1:sweeplist[l] #We turn on the noise in the first few runs\n",
    "        println(\"Sweep $i\")\n",
    "        flush(stdout)\n",
    "        dmrgsweeptime = @elapsed updatedlist = idmrg_general(iH, updatedlist[1], updatedlist[2], updatedlist[3], updatedlist[4], updatedlist[5]; nsweeps=1, krylovdimmax=6, niter=3, maxdim=maxdimlist[l], cutoff=1e-10)\n",
    "        flush(stdout)\n",
    "    end\n",
    "end\n"
   ]
  },
  {
   "cell_type": "code",
   "execution_count": 46,
   "id": "2dbde029",
   "metadata": {},
   "outputs": [
    {
     "data": {
      "text/plain": [
       "dispersion (generic function with 1 method)"
      ]
     },
     "execution_count": 46,
     "metadata": {},
     "output_type": "execute_result"
    }
   ],
   "source": [
    "function dispersion(a1,a2) \n",
    " return sqrt((Jx*cos(2pi* a1) + Jy*cos(2pi* a2) + Jz)^2 + (Jx*sin(2pi* a1) + \n",
    "      Jy*sin(2pi* a2))^2)\n",
    "end\n"
   ]
  },
  {
   "cell_type": "code",
   "execution_count": 43,
   "id": "be2fc1d5",
   "metadata": {},
   "outputs": [
    {
     "data": {
      "text/plain": [
       "mathematica_expr (generic function with 1 method)"
      ]
     },
     "execution_count": 43,
     "metadata": {},
     "output_type": "execute_result"
    }
   ],
   "source": [
    "function integrand(alpha2, Ly, alphas)\n",
    "    # average over alpha1, then divide by 2\n",
    "    return (sum(a1 -> dispersion(a1, alpha2), alphas) / Ly) / 2\n",
    "end\n",
    "\n",
    "function mathematica_expr(Ly)\n",
    "    alphas = range(1/Ly, stop=1.0, length=Ly)  # 1/Ly, 2/Ly, ..., 1\n",
    "    f(a2) = integrand(a2, Ly, alphas)\n",
    "    val, err = quadgk(f, 0.0, 1.0)             # corresponds to NIntegrate[..., {alpha2,0,1}]\n",
    "    return val, err\n",
    "end"
   ]
  },
  {
   "cell_type": "code",
   "execution_count": 48,
   "id": "b0819bea",
   "metadata": {},
   "outputs": [
    {
     "data": {
      "text/plain": [
       "(1.0333819832164692, 1.2205964239342393e-8)"
      ]
     },
     "execution_count": 48,
     "metadata": {},
     "output_type": "execute_result"
    }
   ],
   "source": [
    "using QuadGK\n",
    "mathematica_expr(Ly)\n"
   ]
  },
  {
   "cell_type": "markdown",
   "id": "d230b655",
   "metadata": {},
   "source": [
    "# 1d TFIM"
   ]
  },
  {
   "cell_type": "code",
   "execution_count": 2,
   "id": "e087efd5",
   "metadata": {},
   "outputs": [],
   "source": [
    "uc = 4\n",
    "\n",
    "jz = -1.0\n",
    "hx = -2.0\n",
    "\n",
    "oplist = MPOsum()\n",
    "for i = 1:uc\n",
    "    mpoadd!(oplist, 4 * jz, (i, \"Sz\"), (i + 1, \"Sz\"))\n",
    "    mpoadd!(oplist, 2 * hx, (i, \"Sx\"))\n",
    "end\n",
    "\n",
    "sites = siteinds(\"S=1/2\", uc)\n",
    "iH = op_to_hm_inf(oplist, sites);"
   ]
  },
  {
   "cell_type": "code",
   "execution_count": 3,
   "id": "ac94d752",
   "metadata": {},
   "outputs": [
    {
     "name": "stdout",
     "output_type": "stream",
     "text": [
      "finish initialization\n",
      "Maximum bond dimension is: 2\n",
      "Energy is: -2.190473536556369\n",
      "<Λ(n)|Λ(n+1)> overlap is: 0.9911581811989701\n",
      "== Global sweep 1 ==\n",
      "Maximum bond dimension is: 5\n",
      "Energy is: -2.127107545943373\n",
      "<Λ(n)|Λ(n+1)> overlap is: 0.9999950382253208\n",
      "  Sweep 1\n",
      "Maximum bond dimension is: 5\n",
      "Energy is: -2.127088819600594\n",
      "<Λ(n)|Λ(n+1)> overlap is: 0.9999999999617517\n",
      "  Sweep 2\n",
      "Maximum bond dimension is: 5\n",
      "Energy is: -2.127088819582493\n",
      "<Λ(n)|Λ(n+1)> overlap is: 0.9999999999703374\n",
      "== Global sweep 2 ==\n",
      "Maximum bond dimension is: 5\n",
      "Energy is: -2.1270888195844933\n",
      "<Λ(n)|Λ(n+1)> overlap is: 0.9999999999690299\n",
      "  Sweep 1\n",
      "Maximum bond dimension is: 5\n",
      "Energy is: -2.1270888195804005\n",
      "<Λ(n)|Λ(n+1)> overlap is: 0.999999999969027\n",
      "  Sweep 2\n",
      "Maximum bond dimension is: 5\n",
      "Energy is: -2.127088819582344\n",
      "<Λ(n)|Λ(n+1)> overlap is: 0.9999999999703748\n",
      "== Global sweep 3 ==\n",
      "Maximum bond dimension is: 5\n",
      "Energy is: -2.127088819584415\n",
      "<Λ(n)|Λ(n+1)> overlap is: 0.999999999969029\n",
      "  Sweep 1\n",
      "Maximum bond dimension is: 5\n",
      "Energy is: -2.127088819580379\n",
      "<Λ(n)|Λ(n+1)> overlap is: 0.999999999969026\n",
      "  Sweep 2\n",
      "Maximum bond dimension is: 5\n",
      "Energy is: -2.127088819582454\n",
      "<Λ(n)|Λ(n+1)> overlap is: 0.9999999999703747\n",
      "  Sweep 3\n",
      "Maximum bond dimension is: 5\n",
      "Energy is: -2.1270888195824185\n",
      "<Λ(n)|Λ(n+1)> overlap is: 0.999999999970378\n"
     ]
    },
    {
     "data": {
      "text/plain": [
       "MPSdata(MPS\n",
       "[1] ((dim=2|id=662|\"S=1/2,Site,n=1\"), (dim=5|id=294|\"Link,u\"), (dim=5|id=135|\"Link,u\"))\n",
       "[2] ((dim=2|id=328|\"S=1/2,Site,n=2\"), (dim=20|id=271|\"Link,v\"), (dim=5|id=231|\"Link,v\"))\n",
       "[3] ((dim=10|id=431|\"Link,v\"), (dim=2|id=531|\"S=1/2,Site,n=3\"), (dim=20|id=271|\"Link,v\"))\n",
       "[4] ((dim=5|id=531|\"Link,v\"), (dim=2|id=479|\"S=1/2,Site,n=4\"), (dim=10|id=431|\"Link,v\"))\n",
       ", ITensor ord=3\n",
       "Dim 1: (dim=5|id=294|\"Link,u\")\n",
       "Dim 2: (dim=3|id=958)\n",
       "Dim 3: (dim=5|id=294|\"Link,u\")'\n",
       "NDTensors.Dense{ComplexF64, Vector{ComplexF64}}\n",
       " 5×3×5\n",
       "[:, :, 1] =\n",
       "      -93.46018392338304 + 0.0im  …       1.0000000000000095 + 0.0im\n",
       " -3.9951185216781985e-14 + 0.0im      1.2409087075121646e-16 + 0.0im\n",
       "  2.8617071197392814e-14 + 0.0im      -4.890423417399574e-17 + 0.0im\n",
       "    0.017477003030914363 + 0.0im     -1.4559271688503936e-16 + 0.0im\n",
       " -1.0722796956440392e-14 + 0.0im     -3.6309940095483954e-16 + 0.0im\n",
       "\n",
       "[:, :, 2] =\n",
       "  -3.097490049080732e-14 + 0.0im  …  1.1495261350267808e-16 + 0.0im\n",
       "      -89.86455936893131 + 0.0im           1.00000000000001 + 0.0im\n",
       "     -0.9727176820965593 + 0.0im     1.3647123617681535e-16 + 0.0im\n",
       " -1.1675618403854086e-14 + 0.0im      3.398242528591121e-16 + 0.0im\n",
       "     0.13275605317582903 + 0.0im     -8.022618145691753e-17 + 0.0im\n",
       "\n",
       "[:, :, 3] =\n",
       " 1.1488082671758921e-14 + 0.0im  …     1.66979006807775e-17 + 0.0im\n",
       "    -0.9727176820965627 + 0.0im       9.522434362987495e-17 + 0.0im\n",
       "     -89.73250010834043 + 0.0im          1.0000000000000087 + 0.0im\n",
       "  2.950727873527374e-14 + 0.0im       2.865190746089923e-16 + 0.0im\n",
       "    -0.9824626141361228 + 0.0im     -2.7228642576574436e-16 + 0.0im\n",
       "\n",
       "[:, :, 4] =\n",
       "     0.01747700303091505 + 0.0im  …   -1.470456615226864e-16 + 0.0im\n",
       " -2.8715211154778574e-14 + 0.0im      3.7455002852477478e-16 + 0.0im\n",
       "   3.562766625626056e-14 + 0.0im       2.584898400213144e-16 + 0.0im\n",
       "      -86.13604415591224 + 0.0im           1.000000000000008 + 0.0im\n",
       "    8.55815787505041e-14 + 0.0im     -1.8191122568995562e-18 + 0.0im\n",
       "\n",
       "[:, :, 5] =\n",
       " -8.916043001279028e-15 + 0.0im  …  -1.9070037141003464e-16 + 0.0im\n",
       "    0.13275605317582964 + 0.0im      -8.645088655320705e-17 + 0.0im\n",
       "     -0.982462614136125 + 0.0im     -2.9520094576843806e-16 + 0.0im\n",
       "  8.142706989230004e-14 + 0.0im      -3.220717376991342e-17 + 0.0im\n",
       "     -89.68680030417066 + 0.0im          1.0000000000000069 + 0.0im, ITensor ord=3\n",
       "Dim 1: (dim=5|id=531|\"Link,v\")\n",
       "Dim 2: (dim=3|id=958)\n",
       "Dim 3: (dim=5|id=531|\"Link,v\")'\n",
       "NDTensors.Dense{ComplexF64, Vector{ComplexF64}}\n",
       " 5×3×5\n",
       "[:, :, 1] =\n",
       "      1.0000000000000098 + 0.0im  …       -93.46019283137046 + 0.0im\n",
       "   -5.67884976960672e-17 + 0.0im     -1.4686987800812911e-15 + 0.0im\n",
       " -2.1729876379075399e-16 + 0.0im       2.776724754202642e-14 + 0.0im\n",
       "  -8.842473862763054e-17 + 0.0im         0.01747693732987847 + 0.0im\n",
       "  3.0102603053705326e-16 + 0.0im      1.1365492953428417e-14 + 0.0im\n",
       "\n",
       "[:, :, 2] =\n",
       "  -5.968246483821808e-17 + 0.0im  …  -9.072658796352233e-15 + 0.0im\n",
       "      1.0000000000000093 + 0.0im          -89.8645681554924 + 0.0im\n",
       " -1.7146407239003758e-16 + 0.0im        -0.9727164767698611 + 0.0im\n",
       "  -2.526610458926712e-16 + 0.0im     1.7012882857312414e-14 + 0.0im\n",
       "  -6.002298868285133e-17 + 0.0im        0.13276957237993123 + 0.0im\n",
       "\n",
       "[:, :, 3] =\n",
       " -1.9822542515628725e-16 + 0.0im  …  3.3525763143174003e-14 + 0.0im\n",
       " -1.2289867539347283e-16 + 0.0im        -0.9727164767698511 + 0.0im\n",
       "      1.0000000000000093 + 0.0im         -89.73254936092395 + 0.0im\n",
       "  -2.514829225340437e-16 + 0.0im      9.265109789307752e-14 + 0.0im\n",
       "  -3.726422686982683e-16 + 0.0im        -0.9831976942933093 + 0.0im\n",
       "\n",
       "[:, :, 4] =\n",
       "  -7.720684407612743e-17 + 0.0im  …     0.01747693732987844 + 0.0im\n",
       "  -2.600668625440698e-16 + 0.0im      2.178711685003494e-14 + 0.0im\n",
       " -2.2958257774271515e-16 + 0.0im      9.516048737784905e-14 + 0.0im\n",
       "      1.0000000000000095 + 0.0im          -86.1362891242652 + 0.0im\n",
       "  4.9441313079308036e-17 + 0.0im     1.5833126562102315e-13 + 0.0im\n",
       "\n",
       "[:, :, 5] =\n",
       "  2.975021929777544e-16 + 0.0im  …  -9.720739284156071e-16 + 0.0im\n",
       " -8.451399389122072e-17 + 0.0im        0.13276957237993028 + 0.0im\n",
       " -4.161269678780428e-16 + 0.0im         -0.983197694293305 + 0.0im\n",
       "  8.549030445458103e-17 + 0.0im     1.6313327701800917e-13 + 0.0im\n",
       "     1.0000000000000093 + 0.0im         -89.69672786333703 + 0.0im, ITensor ord=2\n",
       "Dim 1: (dim=5|id=135|\"Link,u\")\n",
       "Dim 2: (dim=5|id=231|\"Link,v\")\n",
       "NDTensors.Diag{Float64, Vector{Float64}}\n",
       " 5×5\n",
       " 0.9911302711205132  0.0                  …  0.0\n",
       " 0.0                 0.13287204272896982     0.0\n",
       " 0.0                 0.0                     0.0\n",
       " 0.0                 0.0                     0.0\n",
       " 0.0                 0.0                     4.1692009274183045e-5, ITensor ord=2\n",
       "Dim 1: (dim=5|id=294|\"Link,u\")\n",
       "Dim 2: (dim=5|id=531|\"Link,v\")\n",
       "NDTensors.Diag{Float64, Vector{Float64}}\n",
       " 5×5\n",
       " 0.991130271487367  0.0                  …  0.0\n",
       " 0.0                0.13287203945998577     0.0\n",
       " 0.0                0.0                     0.0\n",
       " 0.0                0.0                     0.0\n",
       " 0.0                0.0                     4.202875360499001e-5)"
      ]
     },
     "execution_count": 3,
     "metadata": {},
     "output_type": "execute_result"
    }
   ],
   "source": [
    "finalstate = idmrg_run(iH, sites; maxdimlist=[50, 100, 250], sweeplist=[2, 2, 3], init_cutoff=1e-2, cutoff=1e-10)"
   ]
  },
  {
   "cell_type": "code",
   "execution_count": 4,
   "id": "02e7ac44",
   "metadata": {},
   "outputs": [
    {
     "data": {
      "text/plain": [
       "MPS\n",
       "[1] ((dim=2|id=662|\"S=1/2,Site,n=1\"), (dim=5|id=294|\"Link,u\"), (dim=5|id=135|\"Link,u\"))\n",
       "[2] ((dim=2|id=328|\"S=1/2,Site,n=2\"), (dim=20|id=271|\"Link,v\"), (dim=5|id=231|\"Link,v\"))\n",
       "[3] ((dim=10|id=431|\"Link,v\"), (dim=2|id=531|\"S=1/2,Site,n=3\"), (dim=20|id=271|\"Link,v\"))\n",
       "[4] ((dim=5|id=531|\"Link,v\"), (dim=2|id=479|\"S=1/2,Site,n=4\"), (dim=10|id=431|\"Link,v\"))\n"
      ]
     },
     "execution_count": 4,
     "metadata": {},
     "output_type": "execute_result"
    }
   ],
   "source": [
    "finalstate.ψ"
   ]
  },
  {
   "cell_type": "code",
   "execution_count": 73,
   "id": "080dd450",
   "metadata": {},
   "outputs": [
    {
     "name": "stdout",
     "output_type": "stream",
     "text": [
      "BZ average = 2.12708881994673\n"
     ]
    }
   ],
   "source": [
    "# dispersion\n",
    "ε(k, J, g) = 2J * sqrt(1 + g^2 - 2g*cos(k))\n",
    "\n",
    "J = 1.0\n",
    "g = 2.0\n",
    "\n",
    "# e.g. integrate over the 1D Brillouin zone [0, π]\n",
    "val = quadgk(k -> ε(k, J, g), 0, π; rtol=1e-10)[1]\n",
    "\n",
    "# if you want the Brillouin-zone average:\n",
    "avg = val / (2π)\n",
    "println(\"BZ average = $avg\")"
   ]
  },
  {
   "cell_type": "code",
   "execution_count": 71,
   "id": "ff5e2f9a",
   "metadata": {},
   "outputs": [
    {
     "data": {
      "image/png": "[encoded data removed]",
      "image/svg+xml": [
       "<?xml version=\"1.0\" encoding=\"utf-8\"?>\n",
       "<svg xmlns=\"http://www.w3.org/2000/svg\" xmlns:xlink=\"http://www.w3.org/1999/xlink\" width=\"600\" height=\"400\" viewBox=\"0 0 2400 1600\">\n",
       "<defs>\n",
       "  <clipPath id=\"clip170\">\n",
       "    <rect x=\"0\" y=\"0\" width=\"2400\" height=\"1600\"/>\n",
       "  </clipPath>\n",
       "</defs>\n",
       "<path clip-path=\"url(#clip170)\" d=\"M0 1600 L2400 1600 L2400 8.88178e-14 L0 8.88178e-14  Z\" fill=\"#ffffff\" fill-rule=\"evenodd\" fill-opacity=\"1\"/>\n",
       "<defs>\n",
       "  <clipPath id=\"clip171\">\n",
       "    <rect x=\"480\" y=\"0\" width=\"1681\" height=\"1600\"/>\n",
       "  </clipPath>\n",
       "</defs>\n",
       "<path clip-path=\"url(#clip170)\" d=\"M112.177 1486.45 L2352.76 1486.45 L2352.76 47.2441 L112.177 47.2441  Z\" fill=\"#ffffff\" fill-rule=\"evenodd\" fill-opacity=\"1\"/>\n",
       "<defs>\n",
       "  <clipPath id=\"clip172\">\n",
       "    <rect x=\"112\" y=\"47\" width=\"2242\" height=\"1440\"/>\n",
       "  </clipPath>\n",
       "</defs>\n",
       "<polyline clip-path=\"url(#clip172)\" style=\"stroke:#000000; stroke-linecap:round; stroke-linejoin:round; stroke-width:2; stroke-opacity:0.1; fill:none\" points=\"392.577,1486.45 392.577,47.2441 \"/>\n",
       "<polyline clip-path=\"url(#clip172)\" style=\"stroke:#000000; stroke-linecap:round; stroke-linejoin:round; stroke-width:2; stroke-opacity:0.1; fill:none\" points=\"815.327,1486.45 815.327,47.2441 \"/>\n",
       "<polyline clip-path=\"url(#clip172)\" style=\"stroke:#000000; stroke-linecap:round; stroke-linejoin:round; stroke-width:2; stroke-opacity:0.1; fill:none\" points=\"1238.08,1486.45 1238.08,47.2441 \"/>\n",
       "<polyline clip-path=\"url(#clip172)\" style=\"stroke:#000000; stroke-linecap:round; stroke-linejoin:round; stroke-width:2; stroke-opacity:0.1; fill:none\" points=\"1660.83,1486.45 1660.83,47.2441 \"/>\n",
       "<polyline clip-path=\"url(#clip172)\" style=\"stroke:#000000; stroke-linecap:round; stroke-linejoin:round; stroke-width:2; stroke-opacity:0.1; fill:none\" points=\"2083.58,1486.45 2083.58,47.2441 \"/>\n",
       "<polyline clip-path=\"url(#clip170)\" style=\"stroke:#000000; stroke-linecap:round; stroke-linejoin:round; stroke-width:4; stroke-opacity:1; fill:none\" points=\"112.177,1486.45 2352.76,1486.45 \"/>\n",
       "<polyline clip-path=\"url(#clip170)\" style=\"stroke:#000000; stroke-linecap:round; stroke-linejoin:round; stroke-width:4; stroke-opacity:1; fill:none\" points=\"392.577,1486.45 392.577,1467.55 \"/>\n",
       "<polyline clip-path=\"url(#clip170)\" style=\"stroke:#000000; stroke-linecap:round; stroke-linejoin:round; stroke-width:4; stroke-opacity:1; fill:none\" points=\"815.327,1486.45 815.327,1467.55 \"/>\n",
       "<polyline clip-path=\"url(#clip170)\" style=\"stroke:#000000; stroke-linecap:round; stroke-linejoin:round; stroke-width:4; stroke-opacity:1; fill:none\" points=\"1238.08,1486.45 1238.08,1467.55 \"/>\n",
       "<polyline clip-path=\"url(#clip170)\" style=\"stroke:#000000; stroke-linecap:round; stroke-linejoin:round; stroke-width:4; stroke-opacity:1; fill:none\" points=\"1660.83,1486.45 1660.83,1467.55 \"/>\n",
       "<polyline clip-path=\"url(#clip170)\" style=\"stroke:#000000; stroke-linecap:round; stroke-linejoin:round; stroke-width:4; stroke-opacity:1; fill:none\" points=\"2083.58,1486.45 2083.58,1467.55 \"/>\n",
       "<path clip-path=\"url(#clip170)\" d=\"M339.105 1532.02 L368.781 1532.02 L368.781 1535.95 L339.105 1535.95 L339.105 1532.02 Z\" fill=\"#000000\" fill-rule=\"nonzero\" fill-opacity=\"1\" /><path clip-path=\"url(#clip170)\" d=\"M378.919 1514.29 L397.276 1514.29 L397.276 1518.22 L383.202 1518.22 L383.202 1526.7 Q384.22 1526.35 385.239 1526.19 Q386.257 1526 387.276 1526 Q393.063 1526 396.442 1529.17 Q399.822 1532.34 399.822 1537.76 Q399.822 1543.34 396.35 1546.44 Q392.878 1549.52 386.558 1549.52 Q384.382 1549.52 382.114 1549.15 Q379.869 1548.78 377.461 1548.04 L377.461 1543.34 Q379.544 1544.47 381.767 1545.03 Q383.989 1545.58 386.466 1545.58 Q390.47 1545.58 392.808 1543.48 Q395.146 1541.37 395.146 1537.76 Q395.146 1534.15 392.808 1532.04 Q390.47 1529.94 386.466 1529.94 Q384.591 1529.94 382.716 1530.35 Q380.864 1530.77 378.919 1531.65 L378.919 1514.29 Z\" fill=\"#000000\" fill-rule=\"nonzero\" fill-opacity=\"1\" /><path clip-path=\"url(#clip170)\" d=\"M409.035 1542.97 L413.919 1542.97 L413.919 1548.85 L409.035 1548.85 L409.035 1542.97 Z\" fill=\"#000000\" fill-rule=\"nonzero\" fill-opacity=\"1\" /><path clip-path=\"url(#clip170)\" d=\"M434.104 1517.37 Q430.493 1517.37 428.665 1520.93 Q426.859 1524.47 426.859 1531.6 Q426.859 1538.71 428.665 1542.27 Q430.493 1545.82 434.104 1545.82 Q437.739 1545.82 439.544 1542.27 Q441.373 1538.71 441.373 1531.6 Q441.373 1524.47 439.544 1520.93 Q437.739 1517.37 434.104 1517.37 M434.104 1513.66 Q439.914 1513.66 442.97 1518.27 Q446.049 1522.85 446.049 1531.6 Q446.049 1540.33 442.97 1544.94 Q439.914 1549.52 434.104 1549.52 Q428.294 1549.52 425.215 1544.94 Q422.16 1540.33 422.16 1531.6 Q422.16 1522.85 425.215 1518.27 Q428.294 1513.66 434.104 1513.66 Z\" fill=\"#000000\" fill-rule=\"nonzero\" fill-opacity=\"1\" /><path clip-path=\"url(#clip170)\" d=\"M762.353 1532.02 L792.029 1532.02 L792.029 1535.95 L762.353 1535.95 L762.353 1532.02 Z\" fill=\"#000000\" fill-rule=\"nonzero\" fill-opacity=\"1\" /><path clip-path=\"url(#clip170)\" d=\"M806.149 1544.91 L822.469 1544.91 L822.469 1548.85 L800.524 1548.85 L800.524 1544.91 Q803.186 1542.16 807.77 1537.53 Q812.376 1532.88 813.557 1531.53 Q815.802 1529.01 816.682 1527.27 Q817.584 1525.51 817.584 1523.82 Q817.584 1521.07 815.64 1519.33 Q813.719 1517.6 810.617 1517.6 Q808.418 1517.6 805.964 1518.36 Q803.534 1519.13 800.756 1520.68 L800.756 1515.95 Q803.58 1514.82 806.034 1514.24 Q808.487 1513.66 810.524 1513.66 Q815.895 1513.66 819.089 1516.35 Q822.283 1519.03 822.283 1523.52 Q822.283 1525.65 821.473 1527.57 Q820.686 1529.47 818.58 1532.07 Q818.001 1532.74 814.899 1535.95 Q811.797 1539.15 806.149 1544.91 Z\" fill=\"#000000\" fill-rule=\"nonzero\" fill-opacity=\"1\" /><path clip-path=\"url(#clip170)\" d=\"M832.283 1542.97 L837.168 1542.97 L837.168 1548.85 L832.283 1548.85 L832.283 1542.97 Z\" fill=\"#000000\" fill-rule=\"nonzero\" fill-opacity=\"1\" /><path clip-path=\"url(#clip170)\" d=\"M847.399 1514.29 L865.755 1514.29 L865.755 1518.22 L851.681 1518.22 L851.681 1526.7 Q852.7 1526.35 853.718 1526.19 Q854.737 1526 855.756 1526 Q861.543 1526 864.922 1529.17 Q868.302 1532.34 868.302 1537.76 Q868.302 1543.34 864.83 1546.44 Q861.357 1549.52 855.038 1549.52 Q852.862 1549.52 850.593 1549.15 Q848.348 1548.78 845.941 1548.04 L845.941 1543.34 Q848.024 1544.47 850.246 1545.03 Q852.468 1545.58 854.945 1545.58 Q858.95 1545.58 861.288 1543.48 Q863.626 1541.37 863.626 1537.76 Q863.626 1534.15 861.288 1532.04 Q858.95 1529.94 854.945 1529.94 Q853.07 1529.94 851.195 1530.35 Q849.344 1530.77 847.399 1531.65 L847.399 1514.29 Z\" fill=\"#000000\" fill-rule=\"nonzero\" fill-opacity=\"1\" /><path clip-path=\"url(#clip170)\" d=\"M1215.46 1517.37 Q1211.85 1517.37 1210.02 1520.93 Q1208.22 1524.47 1208.22 1531.6 Q1208.22 1538.71 1210.02 1542.27 Q1211.85 1545.82 1215.46 1545.82 Q1219.1 1545.82 1220.9 1542.27 Q1222.73 1538.71 1222.73 1531.6 Q1222.73 1524.47 1220.9 1520.93 Q1219.1 1517.37 1215.46 1517.37 M1215.46 1513.66 Q1221.27 1513.66 1224.33 1518.27 Q1227.41 1522.85 1227.41 1531.6 Q1227.41 1540.33 1224.33 1544.94 Q1221.27 1549.52 1215.46 1549.52 Q1209.65 1549.52 1206.57 1544.94 Q1203.52 1540.33 1203.52 1531.6 Q1203.52 1522.85 1206.57 1518.27 Q1209.65 1513.66 1215.46 1513.66 Z\" fill=\"#000000\" fill-rule=\"nonzero\" fill-opacity=\"1\" /><path clip-path=\"url(#clip170)\" d=\"M1235.62 1542.97 L1240.51 1542.97 L1240.51 1548.85 L1235.62 1548.85 L1235.62 1542.97 Z\" fill=\"#000000\" fill-rule=\"nonzero\" fill-opacity=\"1\" /><path clip-path=\"url(#clip170)\" d=\"M1260.69 1517.37 Q1257.08 1517.37 1255.25 1520.93 Q1253.45 1524.47 1253.45 1531.6 Q1253.45 1538.71 1255.25 1542.27 Q1257.08 1545.82 1260.69 1545.82 Q1264.33 1545.82 1266.13 1542.27 Q1267.96 1538.71 1267.96 1531.6 Q1267.96 1524.47 1266.13 1520.93 Q1264.33 1517.37 1260.69 1517.37 M1260.69 1513.66 Q1266.5 1513.66 1269.56 1518.27 Q1272.64 1522.85 1272.64 1531.6 Q1272.64 1540.33 1269.56 1544.94 Q1266.5 1549.52 1260.69 1549.52 Q1254.88 1549.52 1251.8 1544.94 Q1248.75 1540.33 1248.75 1531.6 Q1248.75 1522.85 1251.8 1518.27 Q1254.88 1513.66 1260.69 1513.66 Z\" fill=\"#000000\" fill-rule=\"nonzero\" fill-opacity=\"1\" /><path clip-path=\"url(#clip170)\" d=\"M1632.57 1544.91 L1648.88 1544.91 L1648.88 1548.85 L1626.94 1548.85 L1626.94 1544.91 Q1629.6 1542.16 1634.19 1537.53 Q1638.79 1532.88 1639.97 1531.53 Q1642.22 1529.01 1643.1 1527.27 Q1644 1525.51 1644 1523.82 Q1644 1521.07 1642.06 1519.33 Q1640.13 1517.6 1637.03 1517.6 Q1634.83 1517.6 1632.38 1518.36 Q1629.95 1519.13 1627.17 1520.68 L1627.17 1515.95 Q1630 1514.82 1632.45 1514.24 Q1634.9 1513.66 1636.94 1513.66 Q1642.31 1513.66 1645.5 1516.35 Q1648.7 1519.03 1648.7 1523.52 Q1648.7 1525.65 1647.89 1527.57 Q1647.1 1529.47 1645 1532.07 Q1644.42 1532.74 1641.32 1535.95 Q1638.21 1539.15 1632.57 1544.91 Z\" fill=\"#000000\" fill-rule=\"nonzero\" fill-opacity=\"1\" /><path clip-path=\"url(#clip170)\" d=\"M1658.7 1542.97 L1663.58 1542.97 L1663.58 1548.85 L1658.7 1548.85 L1658.7 1542.97 Z\" fill=\"#000000\" fill-rule=\"nonzero\" fill-opacity=\"1\" /><path clip-path=\"url(#clip170)\" d=\"M1673.81 1514.29 L1692.17 1514.29 L1692.17 1518.22 L1678.1 1518.22 L1678.1 1526.7 Q1679.12 1526.35 1680.13 1526.19 Q1681.15 1526 1682.17 1526 Q1687.96 1526 1691.34 1529.17 Q1694.72 1532.34 1694.72 1537.76 Q1694.72 1543.34 1691.25 1546.44 Q1687.77 1549.52 1681.45 1549.52 Q1679.28 1549.52 1677.01 1549.15 Q1674.76 1548.78 1672.36 1548.04 L1672.36 1543.34 Q1674.44 1544.47 1676.66 1545.03 Q1678.88 1545.58 1681.36 1545.58 Q1685.37 1545.58 1687.7 1543.48 Q1690.04 1541.37 1690.04 1537.76 Q1690.04 1534.15 1687.7 1532.04 Q1685.37 1529.94 1681.36 1529.94 Q1679.49 1529.94 1677.61 1530.35 Q1675.76 1530.77 1673.81 1531.65 L1673.81 1514.29 Z\" fill=\"#000000\" fill-rule=\"nonzero\" fill-opacity=\"1\" /><path clip-path=\"url(#clip170)\" d=\"M2050.74 1514.29 L2069.1 1514.29 L2069.1 1518.22 L2055.03 1518.22 L2055.03 1526.7 Q2056.05 1526.35 2057.06 1526.19 Q2058.08 1526 2059.1 1526 Q2064.89 1526 2068.27 1529.17 Q2071.65 1532.34 2071.65 1537.76 Q2071.65 1543.34 2068.17 1546.44 Q2064.7 1549.52 2058.38 1549.52 Q2056.21 1549.52 2053.94 1549.15 Q2051.69 1548.78 2049.29 1548.04 L2049.29 1543.34 Q2051.37 1544.47 2053.59 1545.03 Q2055.81 1545.58 2058.29 1545.58 Q2062.29 1545.58 2064.63 1543.48 Q2066.97 1541.37 2066.97 1537.76 Q2066.97 1534.15 2064.63 1532.04 Q2062.29 1529.94 2058.29 1529.94 Q2056.42 1529.94 2054.54 1530.35 Q2052.69 1530.77 2050.74 1531.65 L2050.74 1514.29 Z\" fill=\"#000000\" fill-rule=\"nonzero\" fill-opacity=\"1\" /><path clip-path=\"url(#clip170)\" d=\"M2080.86 1542.97 L2085.74 1542.97 L2085.74 1548.85 L2080.86 1548.85 L2080.86 1542.97 Z\" fill=\"#000000\" fill-rule=\"nonzero\" fill-opacity=\"1\" /><path clip-path=\"url(#clip170)\" d=\"M2105.93 1517.37 Q2102.32 1517.37 2100.49 1520.93 Q2098.68 1524.47 2098.68 1531.6 Q2098.68 1538.71 2100.49 1542.27 Q2102.32 1545.82 2105.93 1545.82 Q2109.56 1545.82 2111.37 1542.27 Q2113.2 1538.71 2113.2 1531.6 Q2113.2 1524.47 2111.37 1520.93 Q2109.56 1517.37 2105.93 1517.37 M2105.93 1513.66 Q2111.74 1513.66 2114.79 1518.27 Q2117.87 1522.85 2117.87 1531.6 Q2117.87 1540.33 2114.79 1544.94 Q2111.74 1549.52 2105.93 1549.52 Q2100.12 1549.52 2097.04 1544.94 Q2093.98 1540.33 2093.98 1531.6 Q2093.98 1522.85 2097.04 1518.27 Q2100.12 1513.66 2105.93 1513.66 Z\" fill=\"#000000\" fill-rule=\"nonzero\" fill-opacity=\"1\" /><polyline clip-path=\"url(#clip172)\" style=\"stroke:#000000; stroke-linecap:round; stroke-linejoin:round; stroke-width:2; stroke-opacity:0.1; fill:none\" points=\"112.177,1445.72 2352.76,1445.72 \"/>\n",
       "<polyline clip-path=\"url(#clip172)\" style=\"stroke:#000000; stroke-linecap:round; stroke-linejoin:round; stroke-width:2; stroke-opacity:0.1; fill:none\" points=\"112.177,1106.25 2352.76,1106.25 \"/>\n",
       "<polyline clip-path=\"url(#clip172)\" style=\"stroke:#000000; stroke-linecap:round; stroke-linejoin:round; stroke-width:2; stroke-opacity:0.1; fill:none\" points=\"112.177,766.777 2352.76,766.777 \"/>\n",
       "<polyline clip-path=\"url(#clip172)\" style=\"stroke:#000000; stroke-linecap:round; stroke-linejoin:round; stroke-width:2; stroke-opacity:0.1; fill:none\" points=\"112.177,427.307 2352.76,427.307 \"/>\n",
       "<polyline clip-path=\"url(#clip172)\" style=\"stroke:#000000; stroke-linecap:round; stroke-linejoin:round; stroke-width:2; stroke-opacity:0.1; fill:none\" points=\"112.177,87.8373 2352.76,87.8373 \"/>\n",
       "<polyline clip-path=\"url(#clip170)\" style=\"stroke:#000000; stroke-linecap:round; stroke-linejoin:round; stroke-width:4; stroke-opacity:1; fill:none\" points=\"112.177,1486.45 112.177,47.2441 \"/>\n",
       "<polyline clip-path=\"url(#clip170)\" style=\"stroke:#000000; stroke-linecap:round; stroke-linejoin:round; stroke-width:4; stroke-opacity:1; fill:none\" points=\"112.177,1445.72 131.075,1445.72 \"/>\n",
       "<polyline clip-path=\"url(#clip170)\" style=\"stroke:#000000; stroke-linecap:round; stroke-linejoin:round; stroke-width:4; stroke-opacity:1; fill:none\" points=\"112.177,1106.25 131.075,1106.25 \"/>\n",
       "<polyline clip-path=\"url(#clip170)\" style=\"stroke:#000000; stroke-linecap:round; stroke-linejoin:round; stroke-width:4; stroke-opacity:1; fill:none\" points=\"112.177,766.777 131.075,766.777 \"/>\n",
       "<polyline clip-path=\"url(#clip170)\" style=\"stroke:#000000; stroke-linecap:round; stroke-linejoin:round; stroke-width:4; stroke-opacity:1; fill:none\" points=\"112.177,427.307 131.075,427.307 \"/>\n",
       "<polyline clip-path=\"url(#clip170)\" style=\"stroke:#000000; stroke-linecap:round; stroke-linejoin:round; stroke-width:4; stroke-opacity:1; fill:none\" points=\"112.177,87.8373 131.075,87.8373 \"/>\n",
       "<path clip-path=\"url(#clip170)\" d=\"M59.8578 1459.06 L76.1772 1459.06 L76.1772 1463 L54.2328 1463 L54.2328 1459.06 Q56.8949 1456.31 61.4782 1451.68 Q66.0846 1447.02 67.2652 1445.68 Q69.5105 1443.16 70.3902 1441.42 Q71.2929 1439.66 71.2929 1437.97 Q71.2929 1435.22 69.3485 1433.48 Q67.4272 1431.75 64.3254 1431.75 Q62.1263 1431.75 59.6726 1432.51 Q57.2421 1433.27 54.4643 1434.82 L54.4643 1430.1 Q57.2884 1428.97 59.7421 1428.39 Q62.1958 1427.81 64.2328 1427.81 Q69.6031 1427.81 72.7976 1430.5 Q75.992 1433.18 75.992 1437.67 Q75.992 1439.8 75.1818 1441.72 Q74.3948 1443.62 72.2883 1446.21 Q71.7096 1446.88 68.6078 1450.1 Q65.5059 1453.3 59.8578 1459.06 Z\" fill=\"#000000\" fill-rule=\"nonzero\" fill-opacity=\"1\" /><path clip-path=\"url(#clip170)\" d=\"M69.0476 1104.89 Q72.404 1105.61 74.279 1107.88 Q76.1772 1110.15 76.1772 1113.48 Q76.1772 1118.6 72.6587 1121.4 Q69.1402 1124.2 62.6587 1124.2 Q60.4828 1124.2 58.168 1123.76 Q55.8764 1123.34 53.4227 1122.48 L53.4227 1117.97 Q55.3671 1119.1 57.6819 1119.68 Q59.9967 1120.26 62.5198 1120.26 Q66.918 1120.26 69.2096 1118.53 Q71.5244 1116.79 71.5244 1113.48 Q71.5244 1110.42 69.3717 1108.71 Q67.242 1106.98 63.4226 1106.98 L59.3949 1106.98 L59.3949 1103.13 L63.6078 1103.13 Q67.0569 1103.13 68.8855 1101.77 Q70.7142 1100.38 70.7142 1097.79 Q70.7142 1095.12 68.8161 1093.71 Q66.9411 1092.28 63.4226 1092.28 Q61.5013 1092.28 59.3023 1092.69 Q57.1032 1093.11 54.4643 1093.99 L54.4643 1089.82 Q57.1264 1089.08 59.4412 1088.71 Q61.7791 1088.34 63.8393 1088.34 Q69.1633 1088.34 72.2652 1090.77 Q75.367 1093.18 75.367 1097.3 Q75.367 1100.17 73.7235 1102.16 Q72.08 1104.13 69.0476 1104.89 Z\" fill=\"#000000\" fill-rule=\"nonzero\" fill-opacity=\"1\" /><path clip-path=\"url(#clip170)\" d=\"M66.5939 753.571 L54.7884 772.02 L66.5939 772.02 L66.5939 753.571 M65.367 749.497 L71.2466 749.497 L71.2466 772.02 L76.1772 772.02 L76.1772 775.908 L71.2466 775.908 L71.2466 784.057 L66.5939 784.057 L66.5939 775.908 L50.9921 775.908 L50.9921 771.395 L65.367 749.497 Z\" fill=\"#000000\" fill-rule=\"nonzero\" fill-opacity=\"1\" /><path clip-path=\"url(#clip170)\" d=\"M55.2745 410.027 L73.6309 410.027 L73.6309 413.962 L59.5569 413.962 L59.5569 422.434 Q60.5754 422.087 61.5939 421.925 Q62.6124 421.74 63.6309 421.74 Q69.418 421.74 72.7976 424.911 Q76.1772 428.082 76.1772 433.499 Q76.1772 439.078 72.705 442.18 Q69.2328 445.258 62.9134 445.258 Q60.7374 445.258 58.4689 444.888 Q56.2236 444.517 53.8162 443.777 L53.8162 439.078 Q55.8995 440.212 58.1217 440.768 Q60.3439 441.323 62.8208 441.323 Q66.8254 441.323 69.1633 439.217 Q71.5013 437.11 71.5013 433.499 Q71.5013 429.888 69.1633 427.781 Q66.8254 425.675 62.8208 425.675 Q60.9458 425.675 59.0708 426.092 Q57.2189 426.508 55.2745 427.388 L55.2745 410.027 Z\" fill=\"#000000\" fill-rule=\"nonzero\" fill-opacity=\"1\" /><path clip-path=\"url(#clip170)\" d=\"M64.6495 85.9739 Q61.5013 85.9739 59.6495 88.1267 Q57.8208 90.2795 57.8208 94.0294 Q57.8208 97.7563 59.6495 99.9322 Q61.5013 102.085 64.6495 102.085 Q67.7976 102.085 69.6263 99.9322 Q71.4781 97.7563 71.4781 94.0294 Q71.4781 90.2795 69.6263 88.1267 Q67.7976 85.9739 64.6495 85.9739 M73.9318 71.3212 L73.9318 75.5805 Q72.1726 74.7471 70.367 74.3073 Q68.5846 73.8675 66.8254 73.8675 Q62.1958 73.8675 59.7421 76.9925 Q57.3115 80.1175 56.9643 86.4369 Q58.33 84.423 60.3902 83.3582 Q62.4504 82.2702 64.9272 82.2702 Q70.1355 82.2702 73.1448 85.4415 Q76.1772 88.5896 76.1772 94.0294 Q76.1772 99.3535 73.029 102.571 Q69.8809 105.789 64.6495 105.789 Q58.6541 105.789 55.4828 101.205 Q52.3116 96.5989 52.3116 87.8721 Q52.3116 79.6777 56.2004 74.8166 Q60.0893 69.9323 66.6402 69.9323 Q68.3994 69.9323 70.1818 70.2796 Q71.9874 70.6268 73.9318 71.3212 Z\" fill=\"#000000\" fill-rule=\"nonzero\" fill-opacity=\"1\" /><polyline clip-path=\"url(#clip172)\" style=\"stroke:#009af9; stroke-linecap:round; stroke-linejoin:round; stroke-width:4; stroke-opacity:1; fill:none\" points=\"175.59,1445.72 192.5,1438.97 209.41,1419.17 226.32,1387.56 243.23,1345.87 260.14,1296 277.05,1239.78 293.96,1178.85 310.87,1114.61 327.78,1048.25 344.69,980.73 361.6,912.864 378.51,845.333 395.42,778.71 412.33,713.485 429.24,650.082 446.15,588.871 463.06,530.177 479.97,474.287 496.88,421.457 513.79,371.915 530.7,325.865 547.61,283.489 564.52,244.949 581.43,210.387 598.34,179.927 615.251,153.677 632.161,131.73 649.071,114.159 665.981,101.025 682.891,92.372 699.801,88.2288 716.711,88.6093 733.621,93.5122 750.531,102.921 767.441,116.805 784.351,135.116 801.261,157.793 818.171,184.757 835.081,215.914 851.991,251.155 868.901,290.351 885.811,333.356 902.721,380.006 919.631,430.116 936.541,483.477 953.451,539.858 970.361,598.996 987.271,660.599 1004.18,724.336 1021.09,789.827 1038,856.639 1054.91,924.269 1071.82,992.128 1088.73,1059.51 1105.64,1125.59 1122.55,1189.36 1139.46,1249.6 1156.37,1304.87 1173.28,1353.5 1190.19,1393.63 1207.1,1423.36 1224.01,1441.04 1240.92,1445.52 1257.83,1436.52 1274.74,1414.64 1291.65,1381.2 1308.56,1338 1325.47,1286.94 1342.38,1229.82 1359.29,1168.24 1376.2,1103.58 1393.11,1036.95 1410.02,969.323 1426.93,901.469 1443.84,834.053 1460.75,767.632 1477.66,702.686 1494.57,639.627 1511.48,578.818 1528.39,520.576 1545.3,465.183 1562.21,412.891 1579.12,363.922 1596.03,318.478 1612.94,276.737 1629.85,238.856 1646.76,204.975 1663.67,175.216 1680.58,149.684 1697.49,128.467 1714.4,111.639 1731.31,99.2558 1748.22,91.3594 1765.13,87.9763 1782.04,89.1177 1798.95,94.7798 1815.86,104.944 1832.77,119.575 1849.68,138.626 1866.59,162.029 1883.5,189.705 1900.41,221.558 1917.32,257.473 1934.23,297.32 1951.14,340.95 1968.05,388.195 1984.96,438.867 2001.87,492.753 2018.78,549.616 2035.69,609.191 2052.6,671.177 2069.51,735.236 2086.42,800.981 2103.33,867.969 2120.24,935.681 2137.15,1003.51 2154.06,1070.74 2170.97,1136.51 2187.88,1199.77 2204.79,1259.28 2221.7,1313.56 2238.61,1360.9 2255.52,1399.41 2272.43,1427.22 2289.34,1442.73 \"/>\n",
       "<path clip-path=\"url(#clip170)\" d=\"M186.863 198.898 L463.351 198.898 L463.351 95.2176 L186.863 95.2176  Z\" fill=\"#ffffff\" fill-rule=\"evenodd\" fill-opacity=\"1\"/>\n",
       "<polyline clip-path=\"url(#clip170)\" style=\"stroke:#000000; stroke-linecap:round; stroke-linejoin:round; stroke-width:4; stroke-opacity:1; fill:none\" points=\"186.863,198.898 463.351,198.898 463.351,95.2176 186.863,95.2176 186.863,198.898 \"/>\n",
       "<polyline clip-path=\"url(#clip170)\" style=\"stroke:#009af9; stroke-linecap:round; stroke-linejoin:round; stroke-width:4; stroke-opacity:1; fill:none\" points=\"211.758,147.058 361.13,147.058 \"/>\n",
       "<path clip-path=\"url(#clip170)\" d=\"M399.868 166.745 Q398.063 171.375 396.35 172.787 Q394.637 174.199 391.766 174.199 L388.364 174.199 L388.364 170.634 L390.864 170.634 Q392.623 170.634 393.595 169.8 Q394.567 168.967 395.748 165.865 L396.512 163.921 L386.026 138.412 L390.54 138.412 L398.641 158.689 L406.743 138.412 L411.257 138.412 L399.868 166.745 Z\" fill=\"#000000\" fill-rule=\"nonzero\" fill-opacity=\"1\" /><path clip-path=\"url(#clip170)\" d=\"M418.549 160.402 L426.188 160.402 L426.188 134.037 L417.877 135.703 L417.877 131.444 L426.141 129.778 L430.817 129.778 L430.817 160.402 L438.456 160.402 L438.456 164.338 L418.549 164.338 L418.549 160.402 Z\" fill=\"#000000\" fill-rule=\"nonzero\" fill-opacity=\"1\" /></svg>\n"
      ],
      "text/html": [
       "<?xml version=\"1.0\" encoding=\"utf-8\"?>\n",
       "<svg xmlns=\"http://www.w3.org/2000/svg\" xmlns:xlink=\"http://www.w3.org/1999/xlink\" width=\"600\" height=\"400\" viewBox=\"0 0 2400 1600\">\n",
       "<defs>\n",
       "  <clipPath id=\"clip220\">\n",
       "    <rect x=\"0\" y=\"0\" width=\"2400\" height=\"1600\"/>\n",
       "  </clipPath>\n",
       "</defs>\n",
       "<path clip-path=\"url(#clip220)\" d=\"M0 1600 L2400 1600 L2400 8.88178e-14 L0 8.88178e-14  Z\" fill=\"#ffffff\" fill-rule=\"evenodd\" fill-opacity=\"1\"/>\n",
       "<defs>\n",
       "  <clipPath id=\"clip221\">\n",
       "    <rect x=\"480\" y=\"0\" width=\"1681\" height=\"1600\"/>\n",
       "  </clipPath>\n",
       "</defs>\n",
       "<path clip-path=\"url(#clip220)\" d=\"M112.177 1486.45 L2352.76 1486.45 L2352.76 47.2441 L112.177 47.2441  Z\" fill=\"#ffffff\" fill-rule=\"evenodd\" fill-opacity=\"1\"/>\n",
       "<defs>\n",
       "  <clipPath id=\"clip222\">\n",
       "    <rect x=\"112\" y=\"47\" width=\"2242\" height=\"1440\"/>\n",
       "  </clipPath>\n",
       "</defs>\n",
       "<polyline clip-path=\"url(#clip222)\" style=\"stroke:#000000; stroke-linecap:round; stroke-linejoin:round; stroke-width:2; stroke-opacity:0.1; fill:none\" points=\"392.577,1486.45 392.577,47.2441 \"/>\n",
       "<polyline clip-path=\"url(#clip222)\" style=\"stroke:#000000; stroke-linecap:round; stroke-linejoin:round; stroke-width:2; stroke-opacity:0.1; fill:none\" points=\"815.327,1486.45 815.327,47.2441 \"/>\n",
       "<polyline clip-path=\"url(#clip222)\" style=\"stroke:#000000; stroke-linecap:round; stroke-linejoin:round; stroke-width:2; stroke-opacity:0.1; fill:none\" points=\"1238.08,1486.45 1238.08,47.2441 \"/>\n",
       "<polyline clip-path=\"url(#clip222)\" style=\"stroke:#000000; stroke-linecap:round; stroke-linejoin:round; stroke-width:2; stroke-opacity:0.1; fill:none\" points=\"1660.83,1486.45 1660.83,47.2441 \"/>\n",
       "<polyline clip-path=\"url(#clip222)\" style=\"stroke:#000000; stroke-linecap:round; stroke-linejoin:round; stroke-width:2; stroke-opacity:0.1; fill:none\" points=\"2083.58,1486.45 2083.58,47.2441 \"/>\n",
       "<polyline clip-path=\"url(#clip220)\" style=\"stroke:#000000; stroke-linecap:round; stroke-linejoin:round; stroke-width:4; stroke-opacity:1; fill:none\" points=\"112.177,1486.45 2352.76,1486.45 \"/>\n",
       "<polyline clip-path=\"url(#clip220)\" style=\"stroke:#000000; stroke-linecap:round; stroke-linejoin:round; stroke-width:4; stroke-opacity:1; fill:none\" points=\"392.577,1486.45 392.577,1467.55 \"/>\n",
       "<polyline clip-path=\"url(#clip220)\" style=\"stroke:#000000; stroke-linecap:round; stroke-linejoin:round; stroke-width:4; stroke-opacity:1; fill:none\" points=\"815.327,1486.45 815.327,1467.55 \"/>\n",
       "<polyline clip-path=\"url(#clip220)\" style=\"stroke:#000000; stroke-linecap:round; stroke-linejoin:round; stroke-width:4; stroke-opacity:1; fill:none\" points=\"1238.08,1486.45 1238.08,1467.55 \"/>\n",
       "<polyline clip-path=\"url(#clip220)\" style=\"stroke:#000000; stroke-linecap:round; stroke-linejoin:round; stroke-width:4; stroke-opacity:1; fill:none\" points=\"1660.83,1486.45 1660.83,1467.55 \"/>\n",
       "<polyline clip-path=\"url(#clip220)\" style=\"stroke:#000000; stroke-linecap:round; stroke-linejoin:round; stroke-width:4; stroke-opacity:1; fill:none\" points=\"2083.58,1486.45 2083.58,1467.55 \"/>\n",
       "<path clip-path=\"url(#clip220)\" d=\"M339.105 1532.02 L368.781 1532.02 L368.781 1535.95 L339.105 1535.95 L339.105 1532.02 Z\" fill=\"#000000\" fill-rule=\"nonzero\" fill-opacity=\"1\" /><path clip-path=\"url(#clip220)\" d=\"M378.919 1514.29 L397.276 1514.29 L397.276 1518.22 L383.202 1518.22 L383.202 1526.7 Q384.22 1526.35 385.239 1526.19 Q386.257 1526 387.276 1526 Q393.063 1526 396.442 1529.17 Q399.822 1532.34 399.822 1537.76 Q399.822 1543.34 396.35 1546.44 Q392.878 1549.52 386.558 1549.52 Q384.382 1549.52 382.114 1549.15 Q379.869 1548.78 377.461 1548.04 L377.461 1543.34 Q379.544 1544.47 381.767 1545.03 Q383.989 1545.58 386.466 1545.58 Q390.47 1545.58 392.808 1543.48 Q395.146 1541.37 395.146 1537.76 Q395.146 1534.15 392.808 1532.04 Q390.47 1529.94 386.466 1529.94 Q384.591 1529.94 382.716 1530.35 Q380.864 1530.77 378.919 1531.65 L378.919 1514.29 Z\" fill=\"#000000\" fill-rule=\"nonzero\" fill-opacity=\"1\" /><path clip-path=\"url(#clip220)\" d=\"M409.035 1542.97 L413.919 1542.97 L413.919 1548.85 L409.035 1548.85 L409.035 1542.97 Z\" fill=\"#000000\" fill-rule=\"nonzero\" fill-opacity=\"1\" /><path clip-path=\"url(#clip220)\" d=\"M434.104 1517.37 Q430.493 1517.37 428.665 1520.93 Q426.859 1524.47 426.859 1531.6 Q426.859 1538.71 428.665 1542.27 Q430.493 1545.82 434.104 1545.82 Q437.739 1545.82 439.544 1542.27 Q441.373 1538.71 441.373 1531.6 Q441.373 1524.47 439.544 1520.93 Q437.739 1517.37 434.104 1517.37 M434.104 1513.66 Q439.914 1513.66 442.97 1518.27 Q446.049 1522.85 446.049 1531.6 Q446.049 1540.33 442.97 1544.94 Q439.914 1549.52 434.104 1549.52 Q428.294 1549.52 425.215 1544.94 Q422.16 1540.33 422.16 1531.6 Q422.16 1522.85 425.215 1518.27 Q428.294 1513.66 434.104 1513.66 Z\" fill=\"#000000\" fill-rule=\"nonzero\" fill-opacity=\"1\" /><path clip-path=\"url(#clip220)\" d=\"M762.353 1532.02 L792.029 1532.02 L792.029 1535.95 L762.353 1535.95 L762.353 1532.02 Z\" fill=\"#000000\" fill-rule=\"nonzero\" fill-opacity=\"1\" /><path clip-path=\"url(#clip220)\" d=\"M806.149 1544.91 L822.469 1544.91 L822.469 1548.85 L800.524 1548.85 L800.524 1544.91 Q803.186 1542.16 807.77 1537.53 Q812.376 1532.88 813.557 1531.53 Q815.802 1529.01 816.682 1527.27 Q817.584 1525.51 817.584 1523.82 Q817.584 1521.07 815.64 1519.33 Q813.719 1517.6 810.617 1517.6 Q808.418 1517.6 805.964 1518.36 Q803.534 1519.13 800.756 1520.68 L800.756 1515.95 Q803.58 1514.82 806.034 1514.24 Q808.487 1513.66 810.524 1513.66 Q815.895 1513.66 819.089 1516.35 Q822.283 1519.03 822.283 1523.52 Q822.283 1525.65 821.473 1527.57 Q820.686 1529.47 818.58 1532.07 Q818.001 1532.74 814.899 1535.95 Q811.797 1539.15 806.149 1544.91 Z\" fill=\"#000000\" fill-rule=\"nonzero\" fill-opacity=\"1\" /><path clip-path=\"url(#clip220)\" d=\"M832.283 1542.97 L837.168 1542.97 L837.168 1548.85 L832.283 1548.85 L832.283 1542.97 Z\" fill=\"#000000\" fill-rule=\"nonzero\" fill-opacity=\"1\" /><path clip-path=\"url(#clip220)\" d=\"M847.399 1514.29 L865.755 1514.29 L865.755 1518.22 L851.681 1518.22 L851.681 1526.7 Q852.7 1526.35 853.718 1526.19 Q854.737 1526 855.756 1526 Q861.543 1526 864.922 1529.17 Q868.302 1532.34 868.302 1537.76 Q868.302 1543.34 864.83 1546.44 Q861.357 1549.52 855.038 1549.52 Q852.862 1549.52 850.593 1549.15 Q848.348 1548.78 845.941 1548.04 L845.941 1543.34 Q848.024 1544.47 850.246 1545.03 Q852.468 1545.58 854.945 1545.58 Q858.95 1545.58 861.288 1543.48 Q863.626 1541.37 863.626 1537.76 Q863.626 1534.15 861.288 1532.04 Q858.95 1529.94 854.945 1529.94 Q853.07 1529.94 851.195 1530.35 Q849.344 1530.77 847.399 1531.65 L847.399 1514.29 Z\" fill=\"#000000\" fill-rule=\"nonzero\" fill-opacity=\"1\" /><path clip-path=\"url(#clip220)\" d=\"M1215.46 1517.37 Q1211.85 1517.37 1210.02 1520.93 Q1208.22 1524.47 1208.22 1531.6 Q1208.22 1538.71 1210.02 1542.27 Q1211.85 1545.82 1215.46 1545.82 Q1219.1 1545.82 1220.9 1542.27 Q1222.73 1538.71 1222.73 1531.6 Q1222.73 1524.47 1220.9 1520.93 Q1219.1 1517.37 1215.46 1517.37 M1215.46 1513.66 Q1221.27 1513.66 1224.33 1518.27 Q1227.41 1522.85 1227.41 1531.6 Q1227.41 1540.33 1224.33 1544.94 Q1221.27 1549.52 1215.46 1549.52 Q1209.65 1549.52 1206.57 1544.94 Q1203.52 1540.33 1203.52 1531.6 Q1203.52 1522.85 1206.57 1518.27 Q1209.65 1513.66 1215.46 1513.66 Z\" fill=\"#000000\" fill-rule=\"nonzero\" fill-opacity=\"1\" /><path clip-path=\"url(#clip220)\" d=\"M1235.62 1542.97 L1240.51 1542.97 L1240.51 1548.85 L1235.62 1548.85 L1235.62 1542.97 Z\" fill=\"#000000\" fill-rule=\"nonzero\" fill-opacity=\"1\" /><path clip-path=\"url(#clip220)\" d=\"M1260.69 1517.37 Q1257.08 1517.37 1255.25 1520.93 Q1253.45 1524.47 1253.45 1531.6 Q1253.45 1538.71 1255.25 1542.27 Q1257.08 1545.82 1260.69 1545.82 Q1264.33 1545.82 1266.13 1542.27 Q1267.96 1538.71 1267.96 1531.6 Q1267.96 1524.47 1266.13 1520.93 Q1264.33 1517.37 1260.69 1517.37 M1260.69 1513.66 Q1266.5 1513.66 1269.56 1518.27 Q1272.64 1522.85 1272.64 1531.6 Q1272.64 1540.33 1269.56 1544.94 Q1266.5 1549.52 1260.69 1549.52 Q1254.88 1549.52 1251.8 1544.94 Q1248.75 1540.33 1248.75 1531.6 Q1248.75 1522.85 1251.8 1518.27 Q1254.88 1513.66 1260.69 1513.66 Z\" fill=\"#000000\" fill-rule=\"nonzero\" fill-opacity=\"1\" /><path clip-path=\"url(#clip220)\" d=\"M1632.57 1544.91 L1648.88 1544.91 L1648.88 1548.85 L1626.94 1548.85 L1626.94 1544.91 Q1629.6 1542.16 1634.19 1537.53 Q1638.79 1532.88 1639.97 1531.53 Q1642.22 1529.01 1643.1 1527.27 Q1644 1525.51 1644 1523.82 Q1644 1521.07 1642.06 1519.33 Q1640.13 1517.6 1637.03 1517.6 Q1634.83 1517.6 1632.38 1518.36 Q1629.95 1519.13 1627.17 1520.68 L1627.17 1515.95 Q1630 1514.82 1632.45 1514.24 Q1634.9 1513.66 1636.94 1513.66 Q1642.31 1513.66 1645.5 1516.35 Q1648.7 1519.03 1648.7 1523.52 Q1648.7 1525.65 1647.89 1527.57 Q1647.1 1529.47 1645 1532.07 Q1644.42 1532.74 1641.32 1535.95 Q1638.21 1539.15 1632.57 1544.91 Z\" fill=\"#000000\" fill-rule=\"nonzero\" fill-opacity=\"1\" /><path clip-path=\"url(#clip220)\" d=\"M1658.7 1542.97 L1663.58 1542.97 L1663.58 1548.85 L1658.7 1548.85 L1658.7 1542.97 Z\" fill=\"#000000\" fill-rule=\"nonzero\" fill-opacity=\"1\" /><path clip-path=\"url(#clip220)\" d=\"M1673.81 1514.29 L1692.17 1514.29 L1692.17 1518.22 L1678.1 1518.22 L1678.1 1526.7 Q1679.12 1526.35 1680.13 1526.19 Q1681.15 1526 1682.17 1526 Q1687.96 1526 1691.34 1529.17 Q1694.72 1532.34 1694.72 1537.76 Q1694.72 1543.34 1691.25 1546.44 Q1687.77 1549.52 1681.45 1549.52 Q1679.28 1549.52 1677.01 1549.15 Q1674.76 1548.78 1672.36 1548.04 L1672.36 1543.34 Q1674.44 1544.47 1676.66 1545.03 Q1678.88 1545.58 1681.36 1545.58 Q1685.37 1545.58 1687.7 1543.48 Q1690.04 1541.37 1690.04 1537.76 Q1690.04 1534.15 1687.7 1532.04 Q1685.37 1529.94 1681.36 1529.94 Q1679.49 1529.94 1677.61 1530.35 Q1675.76 1530.77 1673.81 1531.65 L1673.81 1514.29 Z\" fill=\"#000000\" fill-rule=\"nonzero\" fill-opacity=\"1\" /><path clip-path=\"url(#clip220)\" d=\"M2050.74 1514.29 L2069.1 1514.29 L2069.1 1518.22 L2055.03 1518.22 L2055.03 1526.7 Q2056.05 1526.35 2057.06 1526.19 Q2058.08 1526 2059.1 1526 Q2064.89 1526 2068.27 1529.17 Q2071.65 1532.34 2071.65 1537.76 Q2071.65 1543.34 2068.17 1546.44 Q2064.7 1549.52 2058.38 1549.52 Q2056.21 1549.52 2053.94 1549.15 Q2051.69 1548.78 2049.29 1548.04 L2049.29 1543.34 Q2051.37 1544.47 2053.59 1545.03 Q2055.81 1545.58 2058.29 1545.58 Q2062.29 1545.58 2064.63 1543.48 Q2066.97 1541.37 2066.97 1537.76 Q2066.97 1534.15 2064.63 1532.04 Q2062.29 1529.94 2058.29 1529.94 Q2056.42 1529.94 2054.54 1530.35 Q2052.69 1530.77 2050.74 1531.65 L2050.74 1514.29 Z\" fill=\"#000000\" fill-rule=\"nonzero\" fill-opacity=\"1\" /><path clip-path=\"url(#clip220)\" d=\"M2080.86 1542.97 L2085.74 1542.97 L2085.74 1548.85 L2080.86 1548.85 L2080.86 1542.97 Z\" fill=\"#000000\" fill-rule=\"nonzero\" fill-opacity=\"1\" /><path clip-path=\"url(#clip220)\" d=\"M2105.93 1517.37 Q2102.32 1517.37 2100.49 1520.93 Q2098.68 1524.47 2098.68 1531.6 Q2098.68 1538.71 2100.49 1542.27 Q2102.32 1545.82 2105.93 1545.82 Q2109.56 1545.82 2111.37 1542.27 Q2113.2 1538.71 2113.2 1531.6 Q2113.2 1524.47 2111.37 1520.93 Q2109.56 1517.37 2105.93 1517.37 M2105.93 1513.66 Q2111.74 1513.66 2114.79 1518.27 Q2117.87 1522.85 2117.87 1531.6 Q2117.87 1540.33 2114.79 1544.94 Q2111.74 1549.52 2105.93 1549.52 Q2100.12 1549.52 2097.04 1544.94 Q2093.98 1540.33 2093.98 1531.6 Q2093.98 1522.85 2097.04 1518.27 Q2100.12 1513.66 2105.93 1513.66 Z\" fill=\"#000000\" fill-rule=\"nonzero\" fill-opacity=\"1\" /><polyline clip-path=\"url(#clip222)\" style=\"stroke:#000000; stroke-linecap:round; stroke-linejoin:round; stroke-width:2; stroke-opacity:0.1; fill:none\" points=\"112.177,1445.72 2352.76,1445.72 \"/>\n",
       "<polyline clip-path=\"url(#clip222)\" style=\"stroke:#000000; stroke-linecap:round; stroke-linejoin:round; stroke-width:2; stroke-opacity:0.1; fill:none\" points=\"112.177,1106.25 2352.76,1106.25 \"/>\n",
       "<polyline clip-path=\"url(#clip222)\" style=\"stroke:#000000; stroke-linecap:round; stroke-linejoin:round; stroke-width:2; stroke-opacity:0.1; fill:none\" points=\"112.177,766.777 2352.76,766.777 \"/>\n",
       "<polyline clip-path=\"url(#clip222)\" style=\"stroke:#000000; stroke-linecap:round; stroke-linejoin:round; stroke-width:2; stroke-opacity:0.1; fill:none\" points=\"112.177,427.307 2352.76,427.307 \"/>\n",
       "<polyline clip-path=\"url(#clip222)\" style=\"stroke:#000000; stroke-linecap:round; stroke-linejoin:round; stroke-width:2; stroke-opacity:0.1; fill:none\" points=\"112.177,87.8373 2352.76,87.8373 \"/>\n",
       "<polyline clip-path=\"url(#clip220)\" style=\"stroke:#000000; stroke-linecap:round; stroke-linejoin:round; stroke-width:4; stroke-opacity:1; fill:none\" points=\"112.177,1486.45 112.177,47.2441 \"/>\n",
       "<polyline clip-path=\"url(#clip220)\" style=\"stroke:#000000; stroke-linecap:round; stroke-linejoin:round; stroke-width:4; stroke-opacity:1; fill:none\" points=\"112.177,1445.72 131.075,1445.72 \"/>\n",
       "<polyline clip-path=\"url(#clip220)\" style=\"stroke:#000000; stroke-linecap:round; stroke-linejoin:round; stroke-width:4; stroke-opacity:1; fill:none\" points=\"112.177,1106.25 131.075,1106.25 \"/>\n",
       "<polyline clip-path=\"url(#clip220)\" style=\"stroke:#000000; stroke-linecap:round; stroke-linejoin:round; stroke-width:4; stroke-opacity:1; fill:none\" points=\"112.177,766.777 131.075,766.777 \"/>\n",
       "<polyline clip-path=\"url(#clip220)\" style=\"stroke:#000000; stroke-linecap:round; stroke-linejoin:round; stroke-width:4; stroke-opacity:1; fill:none\" points=\"112.177,427.307 131.075,427.307 \"/>\n",
       "<polyline clip-path=\"url(#clip220)\" style=\"stroke:#000000; stroke-linecap:round; stroke-linejoin:round; stroke-width:4; stroke-opacity:1; fill:none\" points=\"112.177,87.8373 131.075,87.8373 \"/>\n",
       "<path clip-path=\"url(#clip220)\" d=\"M59.8578 1459.06 L76.1772 1459.06 L76.1772 1463 L54.2328 1463 L54.2328 1459.06 Q56.8949 1456.31 61.4782 1451.68 Q66.0846 1447.02 67.2652 1445.68 Q69.5105 1443.16 70.3902 1441.42 Q71.2929 1439.66 71.2929 1437.97 Q71.2929 1435.22 69.3485 1433.48 Q67.4272 1431.75 64.3254 1431.75 Q62.1263 1431.75 59.6726 1432.51 Q57.2421 1433.27 54.4643 1434.82 L54.4643 1430.1 Q57.2884 1428.97 59.7421 1428.39 Q62.1958 1427.81 64.2328 1427.81 Q69.6031 1427.81 72.7976 1430.5 Q75.992 1433.18 75.992 1437.67 Q75.992 1439.8 75.1818 1441.72 Q74.3948 1443.62 72.2883 1446.21 Q71.7096 1446.88 68.6078 1450.1 Q65.5059 1453.3 59.8578 1459.06 Z\" fill=\"#000000\" fill-rule=\"nonzero\" fill-opacity=\"1\" /><path clip-path=\"url(#clip220)\" d=\"M69.0476 1104.89 Q72.404 1105.61 74.279 1107.88 Q76.1772 1110.15 76.1772 1113.48 Q76.1772 1118.6 72.6587 1121.4 Q69.1402 1124.2 62.6587 1124.2 Q60.4828 1124.2 58.168 1123.76 Q55.8764 1123.34 53.4227 1122.48 L53.4227 1117.97 Q55.3671 1119.1 57.6819 1119.68 Q59.9967 1120.26 62.5198 1120.26 Q66.918 1120.26 69.2096 1118.53 Q71.5244 1116.79 71.5244 1113.48 Q71.5244 1110.42 69.3717 1108.71 Q67.242 1106.98 63.4226 1106.98 L59.3949 1106.98 L59.3949 1103.13 L63.6078 1103.13 Q67.0569 1103.13 68.8855 1101.77 Q70.7142 1100.38 70.7142 1097.79 Q70.7142 1095.12 68.8161 1093.71 Q66.9411 1092.28 63.4226 1092.28 Q61.5013 1092.28 59.3023 1092.69 Q57.1032 1093.11 54.4643 1093.99 L54.4643 1089.82 Q57.1264 1089.08 59.4412 1088.71 Q61.7791 1088.34 63.8393 1088.34 Q69.1633 1088.34 72.2652 1090.77 Q75.367 1093.18 75.367 1097.3 Q75.367 1100.17 73.7235 1102.16 Q72.08 1104.13 69.0476 1104.89 Z\" fill=\"#000000\" fill-rule=\"nonzero\" fill-opacity=\"1\" /><path clip-path=\"url(#clip220)\" d=\"M66.5939 753.571 L54.7884 772.02 L66.5939 772.02 L66.5939 753.571 M65.367 749.497 L71.2466 749.497 L71.2466 772.02 L76.1772 772.02 L76.1772 775.908 L71.2466 775.908 L71.2466 784.057 L66.5939 784.057 L66.5939 775.908 L50.9921 775.908 L50.9921 771.395 L65.367 749.497 Z\" fill=\"#000000\" fill-rule=\"nonzero\" fill-opacity=\"1\" /><path clip-path=\"url(#clip220)\" d=\"M55.2745 410.027 L73.6309 410.027 L73.6309 413.962 L59.5569 413.962 L59.5569 422.434 Q60.5754 422.087 61.5939 421.925 Q62.6124 421.74 63.6309 421.74 Q69.418 421.74 72.7976 424.911 Q76.1772 428.082 76.1772 433.499 Q76.1772 439.078 72.705 442.18 Q69.2328 445.258 62.9134 445.258 Q60.7374 445.258 58.4689 444.888 Q56.2236 444.517 53.8162 443.777 L53.8162 439.078 Q55.8995 440.212 58.1217 440.768 Q60.3439 441.323 62.8208 441.323 Q66.8254 441.323 69.1633 439.217 Q71.5013 437.11 71.5013 433.499 Q71.5013 429.888 69.1633 427.781 Q66.8254 425.675 62.8208 425.675 Q60.9458 425.675 59.0708 426.092 Q57.2189 426.508 55.2745 427.388 L55.2745 410.027 Z\" fill=\"#000000\" fill-rule=\"nonzero\" fill-opacity=\"1\" /><path clip-path=\"url(#clip220)\" d=\"M64.6495 85.9739 Q61.5013 85.9739 59.6495 88.1267 Q57.8208 90.2795 57.8208 94.0294 Q57.8208 97.7563 59.6495 99.9322 Q61.5013 102.085 64.6495 102.085 Q67.7976 102.085 69.6263 99.9322 Q71.4781 97.7563 71.4781 94.0294 Q71.4781 90.2795 69.6263 88.1267 Q67.7976 85.9739 64.6495 85.9739 M73.9318 71.3212 L73.9318 75.5805 Q72.1726 74.7471 70.367 74.3073 Q68.5846 73.8675 66.8254 73.8675 Q62.1958 73.8675 59.7421 76.9925 Q57.3115 80.1175 56.9643 86.4369 Q58.33 84.423 60.3902 83.3582 Q62.4504 82.2702 64.9272 82.2702 Q70.1355 82.2702 73.1448 85.4415 Q76.1772 88.5896 76.1772 94.0294 Q76.1772 99.3535 73.029 102.571 Q69.8809 105.789 64.6495 105.789 Q58.6541 105.789 55.4828 101.205 Q52.3116 96.5989 52.3116 87.8721 Q52.3116 79.6777 56.2004 74.8166 Q60.0893 69.9323 66.6402 69.9323 Q68.3994 69.9323 70.1818 70.2796 Q71.9874 70.6268 73.9318 71.3212 Z\" fill=\"#000000\" fill-rule=\"nonzero\" fill-opacity=\"1\" /><polyline clip-path=\"url(#clip222)\" style=\"stroke:#009af9; stroke-linecap:round; stroke-linejoin:round; stroke-width:4; stroke-opacity:1; fill:none\" points=\"175.59,1445.72 192.5,1438.97 209.41,1419.17 226.32,1387.56 243.23,1345.87 260.14,1296 277.05,1239.78 293.96,1178.85 310.87,1114.61 327.78,1048.25 344.69,980.73 361.6,912.864 378.51,845.333 395.42,778.71 412.33,713.485 429.24,650.082 446.15,588.871 463.06,530.177 479.97,474.287 496.88,421.457 513.79,371.915 530.7,325.865 547.61,283.489 564.52,244.949 581.43,210.387 598.34,179.927 615.251,153.677 632.161,131.73 649.071,114.159 665.981,101.025 682.891,92.372 699.801,88.2288 716.711,88.6093 733.621,93.5122 750.531,102.921 767.441,116.805 784.351,135.116 801.261,157.793 818.171,184.757 835.081,215.914 851.991,251.155 868.901,290.351 885.811,333.356 902.721,380.006 919.631,430.116 936.541,483.477 953.451,539.858 970.361,598.996 987.271,660.599 1004.18,724.336 1021.09,789.827 1038,856.639 1054.91,924.269 1071.82,992.128 1088.73,1059.51 1105.64,1125.59 1122.55,1189.36 1139.46,1249.6 1156.37,1304.87 1173.28,1353.5 1190.19,1393.63 1207.1,1423.36 1224.01,1441.04 1240.92,1445.52 1257.83,1436.52 1274.74,1414.64 1291.65,1381.2 1308.56,1338 1325.47,1286.94 1342.38,1229.82 1359.29,1168.24 1376.2,1103.58 1393.11,1036.95 1410.02,969.323 1426.93,901.469 1443.84,834.053 1460.75,767.632 1477.66,702.686 1494.57,639.627 1511.48,578.818 1528.39,520.576 1545.3,465.183 1562.21,412.891 1579.12,363.922 1596.03,318.478 1612.94,276.737 1629.85,238.856 1646.76,204.975 1663.67,175.216 1680.58,149.684 1697.49,128.467 1714.4,111.639 1731.31,99.2558 1748.22,91.3594 1765.13,87.9763 1782.04,89.1177 1798.95,94.7798 1815.86,104.944 1832.77,119.575 1849.68,138.626 1866.59,162.029 1883.5,189.705 1900.41,221.558 1917.32,257.473 1934.23,297.32 1951.14,340.95 1968.05,388.195 1984.96,438.867 2001.87,492.753 2018.78,549.616 2035.69,609.191 2052.6,671.177 2069.51,735.236 2086.42,800.981 2103.33,867.969 2120.24,935.681 2137.15,1003.51 2154.06,1070.74 2170.97,1136.51 2187.88,1199.77 2204.79,1259.28 2221.7,1313.56 2238.61,1360.9 2255.52,1399.41 2272.43,1427.22 2289.34,1442.73 \"/>\n",
       "<path clip-path=\"url(#clip220)\" d=\"M186.863 198.898 L463.351 198.898 L463.351 95.2176 L186.863 95.2176  Z\" fill=\"#ffffff\" fill-rule=\"evenodd\" fill-opacity=\"1\"/>\n",
       "<polyline clip-path=\"url(#clip220)\" style=\"stroke:#000000; stroke-linecap:round; stroke-linejoin:round; stroke-width:4; stroke-opacity:1; fill:none\" points=\"186.863,198.898 463.351,198.898 463.351,95.2176 186.863,95.2176 186.863,198.898 \"/>\n",
       "<polyline clip-path=\"url(#clip220)\" style=\"stroke:#009af9; stroke-linecap:round; stroke-linejoin:round; stroke-width:4; stroke-opacity:1; fill:none\" points=\"211.758,147.058 361.13,147.058 \"/>\n",
       "<path clip-path=\"url(#clip220)\" d=\"M399.868 166.745 Q398.063 171.375 396.35 172.787 Q394.637 174.199 391.766 174.199 L388.364 174.199 L388.364 170.634 L390.864 170.634 Q392.623 170.634 393.595 169.8 Q394.567 168.967 395.748 165.865 L396.512 163.921 L386.026 138.412 L390.54 138.412 L398.641 158.689 L406.743 138.412 L411.257 138.412 L399.868 166.745 Z\" fill=\"#000000\" fill-rule=\"nonzero\" fill-opacity=\"1\" /><path clip-path=\"url(#clip220)\" d=\"M418.549 160.402 L426.188 160.402 L426.188 134.037 L417.877 135.703 L417.877 131.444 L426.141 129.778 L430.817 129.778 L430.817 160.402 L438.456 160.402 L438.456 164.338 L418.549 164.338 L418.549 160.402 Z\" fill=\"#000000\" fill-rule=\"nonzero\" fill-opacity=\"1\" /></svg>\n"
      ]
     },
     "execution_count": 71,
     "metadata": {},
     "output_type": "execute_result"
    }
   ],
   "source": [
    "using Plots \n",
    "k=-2pi:0.1:2pi\n",
    "plot(k,ε.(k, J, g))"
   ]
  },
  {
   "cell_type": "code",
   "execution_count": 74,
   "id": "f47c5020",
   "metadata": {},
   "outputs": [
    {
     "data": {
      "text/plain": [
       "3.643116919249678e-10"
      ]
     },
     "execution_count": 74,
     "metadata": {},
     "output_type": "execute_result"
    }
   ],
   "source": [
    "2.12708881994673-2.1270888195824185"
   ]
  },
  {
   "cell_type": "code",
   "execution_count": null,
   "id": "12242c62",
   "metadata": {},
   "outputs": [],
   "source": [
    "    newinitial = canonical_form_inversemethod(iH, iMPS, iLP, iRP, iL2, iL4; maxdim=1200, cutoff=1e-14, pseudoinv=1e-8)#Oh it seems that the cutoff here is crucial to obtain the correct Hamiltonian\n",
    "    newa1, L = canonical_left(newinitial[1], isites)\n",
    "    newb1, R = canonical_right(newinitial[2], isites)\n",
    "    Acan = newa1\n",
    "    Bcan = newb1\n",
    "    Lambdacan = (L * newinitial[3]) * R\n",
    "    Lambdacan = Lambdacan / sqrt(tr(array(Lambdacan) * transpose(conj(array(Lambdacan)))))\n",
    "\n",
    "\n",
    "    \n",
    "    Aeff = updatedHeffA(Acan, Lambdacan, isites, iH, 0)\n",
    "    Beff = updatedHeffB(Bcan, Lambdacan, isites, iH, 0)\n",
    "    heffA = Aeff[1]\n",
    "    heffB = Beff[1]\n",
    "    chi = dim(uniqueind(Acan[1], Acan[2], isites[1]))\n",
    "    ITensors.space(::SiteType\"Qeff\") = chi\n",
    "\n",
    "    returnvalue = Heff_segment_init(tna, tnb, uc, Acan, Bcan, Lambdacan, heffA, heffB, isites, iH, chi)\n",
    "    sites_seg = returnvalue[1]\n",
    "    H_seg = returnvalue[2]\n",
    "    psi_seg = returnvalue[3]"
   ]
  },
  {
   "cell_type": "markdown",
   "id": "fa1ee7ad",
   "metadata": {},
   "source": [
    "We have $A=LML^{-1}$. Therefore $...MMMMM=...AAAAAL$, where one $L$ is pulled to left infinity. Similarly $B=R^{-1}MR$. Therefore $MMM...=RBBB...$."
   ]
  },
  {
   "cell_type": "code",
   "execution_count": 9,
   "id": "aa973957",
   "metadata": {},
   "outputs": [
    {
     "name": "stdout",
     "output_type": "stream",
     "text": [
      "Converged after 2 sweeps with error 8.43769498715119e-15\n",
      "Below is the result\n",
      "0.999999999794398 + 0.0im\n"
     ]
    },
    {
     "data": {
      "text/plain": [
       "(MPS\n",
       "[1] ((dim=2|id=662|\"S=1/2,Site,n=1\"), (dim=5|id=472|\"Link,qr\"), (dim=5|id=610|\"Link,qr\"))\n",
       "[2] ((dim=5|id=472|\"Link,qr\"), (dim=2|id=328|\"S=1/2,Site,n=2\"), (dim=10|id=409|\"Link,qr\"))\n",
       "[3] ((dim=10|id=409|\"Link,qr\"), (dim=2|id=531|\"S=1/2,Site,n=3\"), (dim=10|id=278|\"Link,qr\"))\n",
       "[4] ((dim=10|id=278|\"Link,qr\"), (dim=2|id=479|\"S=1/2,Site,n=4\"), (dim=5|id=610|\"Link,qr\"))\n",
       ", ITensor ord=2\n",
       "Dim 1: (dim=5|id=610|\"Link,qr\")\n",
       "Dim 2: (dim=5|id=294|\"Link,u\")\n",
       "NDTensors.Dense{ComplexF64, Vector{ComplexF64}}\n",
       " 5×5\n",
       " 0.44765647251268786 + 0.0im  …  3.6946503148560517e-11 + 0.0im\n",
       "                 0.0 - 0.0im     -0.0003996728222669804 - 0.0im\n",
       "                 0.0 - 0.0im      0.0019599080622219045 + 0.0im\n",
       "                 0.0 + 0.0im      3.699818229563334e-14 + 0.0im\n",
       "                 0.0 + 0.0im         0.4453936038424269 + 0.0im)"
      ]
     },
     "execution_count": 9,
     "metadata": {},
     "output_type": "execute_result"
    }
   ],
   "source": [
    "newpsi,L1=left_canonical_form(finalstate,sites)"
   ]
  },
  {
   "cell_type": "code",
   "execution_count": 107,
   "id": "84845ace",
   "metadata": {},
   "outputs": [
    {
     "data": {
      "text/plain": [
       "ITensor ord=3 (dim=2|id=455|\"S=1/2,Site,n=4\") (dim=10|id=141|\"Link,rq\") (dim=5|id=91|\"Link,rq\")\n",
       "NDTensors.Dense{ComplexF64, Vector{ComplexF64}}"
      ]
     },
     "execution_count": 107,
     "metadata": {},
     "output_type": "execute_result"
    }
   ],
   "source": [
    "newpsi[4]"
   ]
  },
  {
   "cell_type": "code",
   "execution_count": 105,
   "id": "92a4b536",
   "metadata": {},
   "outputs": [
    {
     "data": {
      "text/plain": [
       "ITensor ord=3 (dim=20|id=608|\"Link,rq\") (dim=2|id=831|\"S=1/2,Site,n=2\") (dim=5|id=751|\"Link,rq\")\n",
       "NDTensors.Dense{ComplexF64, Vector{ComplexF64}}"
      ]
     },
     "execution_count": 105,
     "metadata": {},
     "output_type": "execute_result"
    }
   ],
   "source": [
    "newpsi[2]"
   ]
  },
  {
   "cell_type": "code",
   "execution_count": 7,
   "id": "7144acdb",
   "metadata": {},
   "outputs": [
    {
     "data": {
      "text/plain": [
       "ITensor ord=2 (dim=5|id=253|\"Link,rq\") (dim=5|id=253|\"Link,rq\")'\n",
       "NDTensors.Dense{ComplexF64, Vector{ComplexF64}}"
      ]
     },
     "execution_count": 7,
     "metadata": {},
     "output_type": "execute_result"
    }
   ],
   "source": [
    "liind=commonind(newpsi[1],newpsi[2])\n",
    "b1=newpsi[1]\n",
    "ri=(b1*delta(liind,prime(dag(liind))))*(prime(dag(b1))*delta(sites[1],prime(sites[1])))"
   ]
  },
  {
   "cell_type": "code",
   "execution_count": 8,
   "id": "0851f953",
   "metadata": {},
   "outputs": [
    {
     "name": "stdout",
     "output_type": "stream",
     "text": [
      "ITensor ord=2\n",
      "Dim 1: (dim=5|id=253|\"Link,rq\")\n",
      "Dim 2: (dim=5|id=253|\"Link,rq\")'\n",
      "NDTensors.Dense{ComplexF64, Vector{ComplexF64}}\n",
      " 5×5\n",
      "      1.0000000000000002 + 1.081755453189638e-27im   -8.411258848967869e-17 - 3.861316611631847e-25im  -1.0162817710720033e-17 + 2.3879054647023553e-25im   1.4260190880721058e-17 - 2.273628983412399e-26im    7.788396133666479e-18 + 2.883774147565837e-25im\n",
      "  -8.411258848967869e-17 + 3.8834165360588906e-25im      0.9999999999999999 - 2.50407080353634e-27im     -5.80656060094653e-18 + 8.859727427215469e-26im    -2.416282033078657e-18 + 5.32704151791761e-26im    -3.743766843938521e-18 - 9.544998279355226e-27im\n",
      " -1.0162817710720033e-17 - 2.3475767887478607e-25im   -5.80656060094653e-18 - 9.092463963202046e-26im       0.9999999999999998 + 5.39349115470625e-29im     -8.400597432942111e-17 - 4.224266836598118e-26im  -2.9526459075107334e-17 + 8.166136332106616e-26im\n",
      "  1.4260190880721058e-17 + 1.6489426883057017e-26im  -2.416282033078657e-18 - 5.304186075450198e-26im   -8.400597432942111e-17 + 3.9791231538418534e-26im       1.0000000000000002 + 8.27124373246192e-28im   -2.5776797437578297e-17 - 3.0096819901824245e-26im\n",
      "   7.788396133666479e-18 - 2.985784690013849e-25im   -3.743766843938521e-18 - 6.161456206641999e-26im  -2.9526459075107334e-17 - 5.349204910191179e-26im   -2.5776797437578297e-17 + 4.552836268355781e-26im                      1.0 - 9.45927895596195e-28im"
     ]
    }
   ],
   "source": [
    "print(ri)"
   ]
  },
  {
   "cell_type": "code",
   "execution_count": 5,
   "id": "9c3a8168",
   "metadata": {},
   "outputs": [
    {
     "name": "stdout",
     "output_type": "stream",
     "text": [
      "Converged after 6 sweeps with error 4.853819488561578e-11\n",
      "Below is the result\n",
      "0.9999999999999907 - 4.2640513846216433e-16im\n"
     ]
    },
    {
     "data": {
      "text/plain": [
       "(MPS\n",
       "[1] ((dim=5|id=95|\"Link,rq\"), (dim=2|id=662|\"S=1/2,Site,n=1\"), (dim=5|id=253|\"Link,rq\"))\n",
       "[2] ((dim=20|id=581|\"Link,rq\"), (dim=2|id=328|\"S=1/2,Site,n=2\"), (dim=5|id=95|\"Link,rq\"))\n",
       "[3] ((dim=10|id=571|\"Link,rq\"), (dim=2|id=531|\"S=1/2,Site,n=3\"), (dim=20|id=581|\"Link,rq\"))\n",
       "[4] ((dim=2|id=479|\"S=1/2,Site,n=4\"), (dim=10|id=571|\"Link,rq\"), (dim=5|id=253|\"Link,rq\"))\n",
       ", ITensor ord=2\n",
       "Dim 1: (dim=5|id=253|\"Link,rq\")\n",
       "Dim 2: (dim=5|id=294|\"Link,u\")\n",
       "NDTensors.Dense{ComplexF64, Vector{ComplexF64}}\n",
       " 5×5\n",
       "     0.9911302715370144 + 0.0im                     …                   0.0 + 0.0im\n",
       " -1.1844052266729577e-9 + 1.0574815019018268e-11im                      0.0 + 0.0im\n",
       "  -6.828144946105421e-9 + 1.708891720595015e-10im                       0.0 + 0.0im\n",
       "   9.879473038505893e-7 + 3.1723930039996562e-19im                      0.0 + 0.0im\n",
       " -2.6222162244080366e-8 + 9.527290535270506e-10im      4.199799615359043e-5 + 0.0im)"
      ]
     },
     "execution_count": 5,
     "metadata": {},
     "output_type": "execute_result"
    }
   ],
   "source": [
    "newpsi,Rl=right_canonical_form(finalstate,sites)"
   ]
  },
  {
   "cell_type": "code",
   "execution_count": 103,
   "id": "fcc5f210",
   "metadata": {},
   "outputs": [
    {
     "name": "stdout",
     "output_type": "stream",
     "text": [
      "ITensor ord=2\n",
      "Dim 1: (dim=5|id=992|\"Link,qr\")\n",
      "Dim 2: (dim=5|id=91|\"Link,rq\")\n",
      "NDTensors.Dense{ComplexF64, Vector{ComplexF64}}\n",
      " 5×5\n",
      " 0.443685881156788 + 0.0im  5.047989654749281e-9 + 4.192488986854632e-12im  2.9100908153783094e-8 + 6.775068570894917e-11im     4.426499868010839e-7 - 1.1992851173560287e-18im    1.1173549450328697e-7 + 3.777187608555217e-10im\n",
      "               0.0 + 0.0im  0.059481028974318735 + 0.0im                     8.306016734753333e-8 + 8.051075261670069e-20im     3.861080539523523e-9 + 8.927204334229018e-12im     1.2326467563506499e-6 + 2.2306376528376013e-23im\n",
      "               0.0 + 0.0im                   0.0 + 0.0im                    0.0010689382385333024 + 0.0im                    -1.6099436894019884e-11 - 1.4934526055241564e-14im    -8.713728267557883e-9 + 2.135976943460039e-24im\n",
      "               0.0 + 0.0im                   0.0 + 0.0im                                      0.0 + 0.0im                      0.0001432847318067861 + 0.0im                     -2.4858181235153777e-12 - 9.94114195897998e-15im\n",
      "               0.0 + 0.0im                   0.0 + 0.0im                                      0.0 + 0.0im                                        0.0 + 0.0im                       1.8705638861008188e-5 + 0.0im\n"
     ]
    }
   ],
   "source": [
    "println(Ll*Rl)"
   ]
  },
  {
   "cell_type": "code",
   "execution_count": 97,
   "id": "333b1cc0",
   "metadata": {},
   "outputs": [
    {
     "name": "stdout",
     "output_type": "stream",
     "text": [
      "Converged after 2 sweeps with error 8.43769498715119e-15\n",
      "Below is the result\n",
      "0.999999999794398 + 0.0im\n"
     ]
    },
    {
     "data": {
      "text/plain": [
       "(MPS\n",
       "[1] ((dim=2|id=639|\"S=1/2,Site,n=1\"), (dim=5|id=657|\"Link,qr\"), (dim=5|id=992|\"Link,qr\"))\n",
       "[2] ((dim=5|id=657|\"Link,qr\"), (dim=2|id=831|\"S=1/2,Site,n=2\"), (dim=10|id=176|\"Link,qr\"))\n",
       "[3] ((dim=10|id=176|\"Link,qr\"), (dim=2|id=802|\"S=1/2,Site,n=3\"), (dim=10|id=205|\"Link,qr\"))\n",
       "[4] ((dim=10|id=205|\"Link,qr\"), (dim=2|id=455|\"S=1/2,Site,n=4\"), (dim=5|id=992|\"Link,qr\"))\n",
       ", ITensor ord=2\n",
       "Dim 1: (dim=5|id=992|\"Link,qr\")\n",
       "Dim 2: (dim=5|id=834|\"Link,u\")\n",
       "NDTensors.Dense{ComplexF64, Vector{ComplexF64}}\n",
       " 5×5\n",
       " 0.44765647251268786 + 0.0im  …  3.6946503148560517e-11 + 0.0im\n",
       "                 0.0 - 0.0im     -0.0003996728222669804 - 0.0im\n",
       "                 0.0 - 0.0im      0.0019599080622219045 + 0.0im\n",
       "                 0.0 + 0.0im      3.699818229563334e-14 + 0.0im\n",
       "                 0.0 + 0.0im         0.4453936038424269 + 0.0im)"
      ]
     },
     "execution_count": 97,
     "metadata": {},
     "output_type": "execute_result"
    }
   ],
   "source": [
    "newpsi,Ll=left_canonical_form(finalstate,sites)"
   ]
  }
 ],
 "metadata": {
  "kernelspec": {
   "display_name": "Julia (4 threads) 1.10.2",
   "language": "julia",
   "name": "julia-_4-threads_-1.10"
  },
  "language_info": {
   "file_extension": ".jl",
   "mimetype": "application/julia",
   "name": "julia",
   "version": "1.10.2"
  }
 },
 "nbformat": 4,
 "nbformat_minor": 5
}
